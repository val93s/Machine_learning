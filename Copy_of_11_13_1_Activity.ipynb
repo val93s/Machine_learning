{
  "cells": [
    {
      "cell_type": "markdown",
      "metadata": {
        "id": "view-in-github",
        "colab_type": "text"
      },
      "source": [
        "<a href=\"https://colab.research.google.com/github/val93s/Machine_learning/blob/main/Copy_of_11_13_1_Activity.ipynb\" target=\"_parent\"><img src=\"https://colab.research.google.com/assets/colab-badge.svg\" alt=\"Open In Colab\"/></a>"
      ]
    },
    {
      "cell_type": "markdown",
      "metadata": {
        "id": "hX4n9TsbGw-f"
      },
      "source": [
        "# Activity 11.13.1\n",
        "\n",
        "There's a big difference between identifying a word and knowing what it actually means. To suggest synonyms for a word, an app like Grammarly must have some concept of what that word means. As you've seen in this lesson, machine learning is an effective way of processing word embeddings and calculating how similar one word is to another, thus determining synonyms (and potentially antonyms) of words.  \n",
        "\n",
        "In this lesson, you'll load the text of several classic works of literature available in the public domain through [Project Guttenberg](https://https://www.gutenberg.org/) and examine word embedddings to identify synonyms for some of the words.\n"
      ]
    },
    {
      "cell_type": "markdown",
      "metadata": {
        "id": "eOE0IPoIQ91v"
      },
      "source": [
        "#Step 1: Install the Necessary Packages\n",
        "\n",
        "Import the following packages:\n",
        "```\n",
        "import pandas as pd\n",
        "import re\n",
        "import nltk\n",
        "\n",
        "nltk.download('punkt')\n",
        "nltk.download('stopwords')\n",
        "from nltk.corpus import stopwords\n",
        "from gensim.models import Word2Vec\n",
        "\n",
        "```"
      ]
    },
    {
      "cell_type": "code",
      "execution_count": null,
      "metadata": {
        "colab": {
          "base_uri": "https://localhost:8080/"
        },
        "id": "z682XYsrjkY9",
        "outputId": "bfa0d259-2b67-4dd9-a43d-fee3504c72b8"
      },
      "outputs": [
        {
          "name": "stderr",
          "output_type": "stream",
          "text": [
            "[nltk_data] Downloading package punkt to /root/nltk_data...\n",
            "[nltk_data]   Unzipping tokenizers/punkt.zip.\n",
            "[nltk_data] Downloading package stopwords to /root/nltk_data...\n",
            "[nltk_data]   Unzipping corpora/stopwords.zip.\n"
          ]
        }
      ],
      "source": [
        "#Step 1\n",
        "import pandas as pd\n",
        "import re\n",
        "import nltk\n",
        "\n",
        "nltk.download('punkt')\n",
        "nltk.download('stopwords')\n",
        "from nltk.corpus import stopwords\n",
        "from gensim.models import Word2Vec\n",
        "\n"
      ]
    },
    {
      "cell_type": "markdown",
      "metadata": {
        "id": "YVDbdDBDQVoS"
      },
      "source": [
        "#Step 2: Read in the Text of the Following Works of Literature from [Project Guttenberg](https://https://www.gutenberg.org/)\n",
        "\n",
        "* Run the following code block to import the text from the following works of literature:  \n",
        "\n",
        "*   *The Complete Works of Shakespeare*\n",
        "*   *War and Peace*\n",
        "*   *The Adventures of Sherlock Holmes*\n",
        "*   *Pride and Prejudice*\n",
        "*   *Moby Dick*\n",
        "*   *The Great Gatsby*\n",
        "*   *Great Expectations*\n",
        "*   *Little Women*\n",
        "*   *A Tale of Two Cities*\n",
        "*   *Frankenstein*\n",
        "*   *Crime and Punishment*\n",
        "*   *The Count of Monte Cristo*\n",
        "*   *Wuthering Heights*"
      ]
    },
    {
      "cell_type": "code",
      "execution_count": null,
      "metadata": {
        "id": "bSW3RhyBLSkj"
      },
      "outputs": [],
      "source": [
        "#Step 2\n",
        "\n",
        "Shakespeare = 'https://www.gutenberg.org/cache/epub/100/pg100.txt'\n",
        "wandp = 'https://www.gutenberg.org/cache/epub/2600/pg2600.txt'\n",
        "pandp = 'https://www.gutenberg.org/files/42671/42671.txt'\n",
        "sherlock = 'https://www.gutenberg.org/files/1661/1661-0.txt'\n",
        "moby = 'https://www.gutenberg.org/files/2701/2701-0.txt'\n",
        "gatsby = 'https://www.gutenberg.org/cache/epub/64317/pg64317.txt'\n",
        "expectations = 'https://www.gutenberg.org/files/1400/1400-0.txt'\n",
        "little = 'https://www.gutenberg.org/cache/epub/514/pg514.txt'\n",
        "cities = 'https://www.gutenberg.org/files/98/98-0.txt'\n",
        "frankenstein = 'https://www.gutenberg.org/files/84/84-0.txt'\n",
        "crime = 'https://www.gutenberg.org/files/2554/2554-0.txt'\n",
        "count = 'https://www.gutenberg.org/cache/epub/1184/pg1184.txt'\n",
        "heights = 'https://www.gutenberg.org/files/1399/1399-0.txt'\n",
        "\n",
        "texts = [Shakespeare, wandp, pandp, sherlock, moby, gatsby, expectations, little, cities, frankenstein, crime, count, heights ]\n",
        "\n",
        "import requests\n",
        "\n",
        "data = ''\n",
        "\n",
        "for text in texts:\n",
        "  response = requests.get(text)\n",
        "  data += response.text"
      ]
    },
    {
      "cell_type": "markdown",
      "metadata": {
        "id": "63UbfVKeQfsl"
      },
      "source": [
        "#Step 3: Preprocess the Text to Print All Words Lowercase and Remove Extra Punctuation and Spaces\n",
        "* Run the following code block to preprocess the data:"
      ]
    },
    {
      "cell_type": "code",
      "execution_count": null,
      "metadata": {
        "id": "bxSC_MgQQUis"
      },
      "outputs": [],
      "source": [
        "#Step 3\n",
        "\n",
        "result = data.lower()\n",
        "result = re.sub('[^a-zA-Z\\.]', ' ', result)\n",
        "result = re.sub(r'\\s+', ' ', result)\n",
        "\n"
      ]
    },
    {
      "cell_type": "markdown",
      "metadata": {
        "id": "N3aT3Y28TLRX"
      },
      "source": [
        "# Step 4: Format the Data for `word2vec`\n",
        "* Run the following code block to process the data by removing stop words and converting sentences into lists of strings, which is how `word2vec` needs the data to be structured.\n",
        "* **Note**: This step takes several minutes to complete."
      ]
    },
    {
      "cell_type": "code",
      "execution_count": null,
      "metadata": {
        "colab": {
          "background_save": true
        },
        "id": "7hpGXDOkwWk-"
      },
      "outputs": [],
      "source": [
        "#Step 4\n",
        "\n",
        "tokenized_words = nltk.sent_tokenize(result)\n",
        "tokenized_words\n",
        "\n",
        "sentences = [nltk.word_tokenize(a) for a in tokenized_words]\n",
        "\n",
        "\n",
        "for i in range(len(sentences)):\n",
        "    sentences[i] = [w for w in sentences[i] if w not in stopwords.words('english')]\n",
        "\n"
      ]
    },
    {
      "cell_type": "markdown",
      "metadata": {
        "id": "x6ETJREm_dZx"
      },
      "source": [
        "#Step 5: Fit `word2vec` to the Text Data to Create the Word Embeddings\n",
        "* This can be done by running the following code:\n",
        "\n",
        "```\n",
        "model = Word2Vec(sentences)\n",
        "```\n"
      ]
    },
    {
      "cell_type": "code",
      "execution_count": null,
      "metadata": {
        "id": "eIVIHbiNwZso"
      },
      "outputs": [],
      "source": [
        "#Step 5\n",
        "\n"
      ]
    },
    {
      "cell_type": "markdown",
      "metadata": {
        "id": "L_zWz_YqBT4z"
      },
      "source": [
        "#Step 6: Find Similar Words\n",
        "* You can use `word2vec` to return a list of words similar to the word \"music\" with the following code:\n",
        "\n",
        "```\n",
        "similar = model.wv.most_similar('music')\n",
        "similar\n",
        "```\n",
        "* Which word from the texts is returned as being most similar to \"music\"?\n"
      ]
    },
    {
      "cell_type": "code",
      "execution_count": null,
      "metadata": {
        "id": "a3qASmlfxBe1"
      },
      "outputs": [],
      "source": [
        "#Step 6\n",
        "\n"
      ]
    },
    {
      "cell_type": "markdown",
      "metadata": {
        "id": "JkckfMzzqbfx"
      },
      "source": [
        "**Step 6 Answer:**\n",
        "\n"
      ]
    },
    {
      "cell_type": "markdown",
      "metadata": {
        "id": "-OTSop4Tm27l"
      },
      "source": [
        "#Step 7: Test Your Own Words\n",
        "* Replace \"music\" in the code above with a word of your choice. Which synonyms does it return?  Can you find a word that isn't in the text?\n",
        "\n"
      ]
    },
    {
      "cell_type": "code",
      "execution_count": null,
      "metadata": {
        "id": "WaaUBiBmmVhr"
      },
      "outputs": [],
      "source": [
        "#Step 7:\n",
        "\n"
      ]
    },
    {
      "cell_type": "markdown",
      "metadata": {
        "id": "pAyNwDzKnYAG"
      },
      "source": [
        "**Step 7 Answer:**\n",
        "\n"
      ]
    }
  ],
  "metadata": {
    "accelerator": "GPU",
    "colab": {
      "provenance": [],
      "include_colab_link": true
    },
    "kernelspec": {
      "display_name": "Python 3",
      "name": "python3"
    }
  },
  "nbformat": 4,
  "nbformat_minor": 0
}