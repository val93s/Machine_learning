{
  "nbformat": 4,
  "nbformat_minor": 0,
  "metadata": {
    "accelerator": "GPU",
    "colab": {
      "provenance": [],
      "include_colab_link": true
    },
    "kernelspec": {
      "display_name": "Python 3",
      "name": "python3"
    }
  },
  "cells": [
    {
      "cell_type": "markdown",
      "metadata": {
        "id": "view-in-github",
        "colab_type": "text"
      },
      "source": [
        "<a href=\"https://colab.research.google.com/github/val93s/Machine_learning/blob/main/Copy_of_11_11_2_Activity.ipynb\" target=\"_parent\"><img src=\"https://colab.research.google.com/assets/colab-badge.svg\" alt=\"Open In Colab\"/></a>"
      ]
    },
    {
      "cell_type": "markdown",
      "metadata": {
        "id": "hX4n9TsbGw-f"
      },
      "source": [
        "# Activity 11.11.2\n",
        "\n",
        "In this activity, you'll use the Python `mlxtend` model to generate association rules for a set of grocery transactions using FP growth and compare the run times for the Apriori and FP growth algorithms."
      ]
    },
    {
      "cell_type": "markdown",
      "source": [
        "#Step 1: Install the Necessary Packages\n",
        "**Note**: This will take longer than usual. Make sure to type \"y\" to proceed if prompted.\n",
        "\n",
        "Install the necessary packages as follows:\n",
        "\n",
        "```\n",
        "!pip uninstall mlxtend\n",
        "!pip install git+https://github.com/rasbt/mlxtend.git\n",
        "\n",
        "import pandas as pd\n",
        "from mlxtend.preprocessing import TransactionEncoder\n",
        "from mlxtend.frequent_patterns import apriori, fpgrowth, association_rules\n",
        "```"
      ],
      "metadata": {
        "id": "eOE0IPoIQ91v"
      }
    },
    {
      "cell_type": "code",
      "metadata": {
        "id": "z682XYsrjkY9",
        "colab": {
          "base_uri": "https://localhost:8080/"
        },
        "outputId": "46c0586a-c626-420f-c2b1-294626007d7e"
      },
      "source": [
        "#Step 1\n",
        "!pip uninstall mlxtend\n",
        "!pip install git+https://github.com/rasbt/mlxtend.git\n",
        "\n",
        "import pandas as pd\n",
        "from mlxtend.preprocessing import TransactionEncoder\n",
        "from mlxtend.frequent_patterns import apriori, fpgrowth, association_rules\n",
        "\n",
        "\n"
      ],
      "execution_count": null,
      "outputs": [
        {
          "output_type": "stream",
          "name": "stdout",
          "text": [
            "Found existing installation: mlxtend 0.14.0\n",
            "Uninstalling mlxtend-0.14.0:\n",
            "  Would remove:\n",
            "    /usr/local/lib/python3.8/dist-packages/mlxtend-0.14.0.dist-info/*\n",
            "    /usr/local/lib/python3.8/dist-packages/mlxtend/*\n",
            "Proceed (Y/n)? y\n",
            "  Successfully uninstalled mlxtend-0.14.0\n",
            "Looking in indexes: https://pypi.org/simple, https://us-python.pkg.dev/colab-wheels/public/simple/\n",
            "Collecting git+https://github.com/rasbt/mlxtend.git\n",
            "  Cloning https://github.com/rasbt/mlxtend.git to /tmp/pip-req-build-vuf2bi7r\n",
            "  Running command git clone --filter=blob:none --quiet https://github.com/rasbt/mlxtend.git /tmp/pip-req-build-vuf2bi7r\n",
            "  Resolved https://github.com/rasbt/mlxtend.git to commit 11b61b9f472f60a383be18369e91a06fbc4522c0\n",
            "  Preparing metadata (setup.py) ... \u001b[?25l\u001b[?25hdone\n",
            "Requirement already satisfied: scipy>=1.2.1 in /usr/local/lib/python3.8/dist-packages (from mlxtend==0.22.0.dev0) (1.7.3)\n",
            "Requirement already satisfied: numpy>=1.16.2 in /usr/local/lib/python3.8/dist-packages (from mlxtend==0.22.0.dev0) (1.22.4)\n",
            "Requirement already satisfied: pandas>=0.24.2 in /usr/local/lib/python3.8/dist-packages (from mlxtend==0.22.0.dev0) (1.3.5)\n",
            "Requirement already satisfied: scikit-learn>=1.0.2 in /usr/local/lib/python3.8/dist-packages (from mlxtend==0.22.0.dev0) (1.0.2)\n",
            "Requirement already satisfied: matplotlib>=3.0.0 in /usr/local/lib/python3.8/dist-packages (from mlxtend==0.22.0.dev0) (3.5.3)\n",
            "Requirement already satisfied: joblib>=0.13.2 in /usr/local/lib/python3.8/dist-packages (from mlxtend==0.22.0.dev0) (1.2.0)\n",
            "Requirement already satisfied: setuptools in /usr/local/lib/python3.8/dist-packages (from mlxtend==0.22.0.dev0) (57.4.0)\n",
            "Requirement already satisfied: cycler>=0.10 in /usr/local/lib/python3.8/dist-packages (from matplotlib>=3.0.0->mlxtend==0.22.0.dev0) (0.11.0)\n",
            "Requirement already satisfied: pillow>=6.2.0 in /usr/local/lib/python3.8/dist-packages (from matplotlib>=3.0.0->mlxtend==0.22.0.dev0) (8.4.0)\n",
            "Requirement already satisfied: packaging>=20.0 in /usr/local/lib/python3.8/dist-packages (from matplotlib>=3.0.0->mlxtend==0.22.0.dev0) (23.0)\n",
            "Requirement already satisfied: python-dateutil>=2.7 in /usr/local/lib/python3.8/dist-packages (from matplotlib>=3.0.0->mlxtend==0.22.0.dev0) (2.8.2)\n",
            "Requirement already satisfied: fonttools>=4.22.0 in /usr/local/lib/python3.8/dist-packages (from matplotlib>=3.0.0->mlxtend==0.22.0.dev0) (4.38.0)\n",
            "Requirement already satisfied: pyparsing>=2.2.1 in /usr/local/lib/python3.8/dist-packages (from matplotlib>=3.0.0->mlxtend==0.22.0.dev0) (3.0.9)\n",
            "Requirement already satisfied: kiwisolver>=1.0.1 in /usr/local/lib/python3.8/dist-packages (from matplotlib>=3.0.0->mlxtend==0.22.0.dev0) (1.4.4)\n",
            "Requirement already satisfied: pytz>=2017.3 in /usr/local/lib/python3.8/dist-packages (from pandas>=0.24.2->mlxtend==0.22.0.dev0) (2022.7.1)\n",
            "Requirement already satisfied: threadpoolctl>=2.0.0 in /usr/local/lib/python3.8/dist-packages (from scikit-learn>=1.0.2->mlxtend==0.22.0.dev0) (3.1.0)\n",
            "Requirement already satisfied: six>=1.5 in /usr/local/lib/python3.8/dist-packages (from python-dateutil>=2.7->matplotlib>=3.0.0->mlxtend==0.22.0.dev0) (1.15.0)\n",
            "Building wheels for collected packages: mlxtend\n",
            "  Building wheel for mlxtend (setup.py) ... \u001b[?25l\u001b[?25hdone\n",
            "  Created wheel for mlxtend: filename=mlxtend-0.22.0.dev0-py2.py3-none-any.whl size=1349829 sha256=cdd75b7afed745c8d6067477226804e83ec56f6835bca7881626776d680e7f07\n",
            "  Stored in directory: /tmp/pip-ephem-wheel-cache-uv180xjw/wheels/88/fc/9b/2749e60cb2c3c74c4c97e84089baf3a2ec09b997ba979811dd\n",
            "Successfully built mlxtend\n",
            "Installing collected packages: mlxtend\n",
            "Successfully installed mlxtend-0.22.0.dev0\n"
          ]
        }
      ]
    },
    {
      "cell_type": "markdown",
      "source": [
        "#Step 2: Read in the Data\n",
        "* Run the following code block to read in the transaction data from the example in class.\n",
        "* View the transaction data.\n",
        "\n"
      ],
      "metadata": {
        "id": "n7sNwMRcRcLx"
      }
    },
    {
      "cell_type": "code",
      "source": [
        "#Step 2\n",
        "\n",
        "transactions = [\n",
        "['bread', 'peanut butter', 'apples', 'milk'],\n",
        "['bread', 'peanut butter', 'milk'],\n",
        "['bread', 'peanut butter'],\n",
        "['peanut butter', 'apples', 'milk'],\n",
        "['peanut butter', 'apples'],\n",
        "['apples', 'milk'],\n",
        "['peanut butter', 'milk']\n",
        "]\n",
        "\n",
        "transactions"
      ],
      "metadata": {
        "id": "oAIO9eZxRt5T",
        "colab": {
          "base_uri": "https://localhost:8080/"
        },
        "outputId": "9c744f46-b46b-47b0-c1e7-0ff1f518198a"
      },
      "execution_count": null,
      "outputs": [
        {
          "output_type": "execute_result",
          "data": {
            "text/plain": [
              "[['bread', 'peanut butter', 'apples', 'milk'],\n",
              " ['bread', 'peanut butter', 'milk'],\n",
              " ['bread', 'peanut butter'],\n",
              " ['peanut butter', 'apples', 'milk'],\n",
              " ['peanut butter', 'apples'],\n",
              " ['apples', 'milk'],\n",
              " ['peanut butter', 'milk']]"
            ]
          },
          "metadata": {},
          "execution_count": 2
        }
      ]
    },
    {
      "cell_type": "markdown",
      "metadata": {
        "id": "2HTfAmcZN0FC"
      },
      "source": [
        "#Step 3: Encode the Data \n",
        "* Use `TransactionEncoder()` from `Mlxtend` to get the transaction data in the correct format for the Apriori algorithm.\n",
        "* Run the following code block to transform and print the data: \n",
        "\n"
      ]
    },
    {
      "cell_type": "code",
      "metadata": {
        "id": "jnmR2KLfNzNz",
        "colab": {
          "base_uri": "https://localhost:8080/",
          "height": 269
        },
        "outputId": "0419b190-20ee-4bf1-c2d1-28e4e1a6a081"
      },
      "source": [
        "#Step 3\n",
        "\n",
        "te_ = TransactionEncoder()\n",
        "te_ary = te_.fit(transactions).transform(transactions)\n",
        "te = pd.DataFrame(te_ary, columns=te_.columns_)\n",
        "\n",
        "te"
      ],
      "execution_count": null,
      "outputs": [
        {
          "output_type": "execute_result",
          "data": {
            "text/plain": [
              "   apples  bread   milk  peanut butter\n",
              "0    True   True   True           True\n",
              "1   False   True   True           True\n",
              "2   False   True  False           True\n",
              "3    True  False   True           True\n",
              "4    True  False  False           True\n",
              "5    True  False   True          False\n",
              "6   False  False   True           True"
            ],
            "text/html": [
              "\n",
              "  <div id=\"df-062fd021-f52d-40b8-8cd9-2cfb072df340\">\n",
              "    <div class=\"colab-df-container\">\n",
              "      <div>\n",
              "<style scoped>\n",
              "    .dataframe tbody tr th:only-of-type {\n",
              "        vertical-align: middle;\n",
              "    }\n",
              "\n",
              "    .dataframe tbody tr th {\n",
              "        vertical-align: top;\n",
              "    }\n",
              "\n",
              "    .dataframe thead th {\n",
              "        text-align: right;\n",
              "    }\n",
              "</style>\n",
              "<table border=\"1\" class=\"dataframe\">\n",
              "  <thead>\n",
              "    <tr style=\"text-align: right;\">\n",
              "      <th></th>\n",
              "      <th>apples</th>\n",
              "      <th>bread</th>\n",
              "      <th>milk</th>\n",
              "      <th>peanut butter</th>\n",
              "    </tr>\n",
              "  </thead>\n",
              "  <tbody>\n",
              "    <tr>\n",
              "      <th>0</th>\n",
              "      <td>True</td>\n",
              "      <td>True</td>\n",
              "      <td>True</td>\n",
              "      <td>True</td>\n",
              "    </tr>\n",
              "    <tr>\n",
              "      <th>1</th>\n",
              "      <td>False</td>\n",
              "      <td>True</td>\n",
              "      <td>True</td>\n",
              "      <td>True</td>\n",
              "    </tr>\n",
              "    <tr>\n",
              "      <th>2</th>\n",
              "      <td>False</td>\n",
              "      <td>True</td>\n",
              "      <td>False</td>\n",
              "      <td>True</td>\n",
              "    </tr>\n",
              "    <tr>\n",
              "      <th>3</th>\n",
              "      <td>True</td>\n",
              "      <td>False</td>\n",
              "      <td>True</td>\n",
              "      <td>True</td>\n",
              "    </tr>\n",
              "    <tr>\n",
              "      <th>4</th>\n",
              "      <td>True</td>\n",
              "      <td>False</td>\n",
              "      <td>False</td>\n",
              "      <td>True</td>\n",
              "    </tr>\n",
              "    <tr>\n",
              "      <th>5</th>\n",
              "      <td>True</td>\n",
              "      <td>False</td>\n",
              "      <td>True</td>\n",
              "      <td>False</td>\n",
              "    </tr>\n",
              "    <tr>\n",
              "      <th>6</th>\n",
              "      <td>False</td>\n",
              "      <td>False</td>\n",
              "      <td>True</td>\n",
              "      <td>True</td>\n",
              "    </tr>\n",
              "  </tbody>\n",
              "</table>\n",
              "</div>\n",
              "      <button class=\"colab-df-convert\" onclick=\"convertToInteractive('df-062fd021-f52d-40b8-8cd9-2cfb072df340')\"\n",
              "              title=\"Convert this dataframe to an interactive table.\"\n",
              "              style=\"display:none;\">\n",
              "        \n",
              "  <svg xmlns=\"http://www.w3.org/2000/svg\" height=\"24px\"viewBox=\"0 0 24 24\"\n",
              "       width=\"24px\">\n",
              "    <path d=\"M0 0h24v24H0V0z\" fill=\"none\"/>\n",
              "    <path d=\"M18.56 5.44l.94 2.06.94-2.06 2.06-.94-2.06-.94-.94-2.06-.94 2.06-2.06.94zm-11 1L8.5 8.5l.94-2.06 2.06-.94-2.06-.94L8.5 2.5l-.94 2.06-2.06.94zm10 10l.94 2.06.94-2.06 2.06-.94-2.06-.94-.94-2.06-.94 2.06-2.06.94z\"/><path d=\"M17.41 7.96l-1.37-1.37c-.4-.4-.92-.59-1.43-.59-.52 0-1.04.2-1.43.59L10.3 9.45l-7.72 7.72c-.78.78-.78 2.05 0 2.83L4 21.41c.39.39.9.59 1.41.59.51 0 1.02-.2 1.41-.59l7.78-7.78 2.81-2.81c.8-.78.8-2.07 0-2.86zM5.41 20L4 18.59l7.72-7.72 1.47 1.35L5.41 20z\"/>\n",
              "  </svg>\n",
              "      </button>\n",
              "      \n",
              "  <style>\n",
              "    .colab-df-container {\n",
              "      display:flex;\n",
              "      flex-wrap:wrap;\n",
              "      gap: 12px;\n",
              "    }\n",
              "\n",
              "    .colab-df-convert {\n",
              "      background-color: #E8F0FE;\n",
              "      border: none;\n",
              "      border-radius: 50%;\n",
              "      cursor: pointer;\n",
              "      display: none;\n",
              "      fill: #1967D2;\n",
              "      height: 32px;\n",
              "      padding: 0 0 0 0;\n",
              "      width: 32px;\n",
              "    }\n",
              "\n",
              "    .colab-df-convert:hover {\n",
              "      background-color: #E2EBFA;\n",
              "      box-shadow: 0px 1px 2px rgba(60, 64, 67, 0.3), 0px 1px 3px 1px rgba(60, 64, 67, 0.15);\n",
              "      fill: #174EA6;\n",
              "    }\n",
              "\n",
              "    [theme=dark] .colab-df-convert {\n",
              "      background-color: #3B4455;\n",
              "      fill: #D2E3FC;\n",
              "    }\n",
              "\n",
              "    [theme=dark] .colab-df-convert:hover {\n",
              "      background-color: #434B5C;\n",
              "      box-shadow: 0px 1px 3px 1px rgba(0, 0, 0, 0.15);\n",
              "      filter: drop-shadow(0px 1px 2px rgba(0, 0, 0, 0.3));\n",
              "      fill: #FFFFFF;\n",
              "    }\n",
              "  </style>\n",
              "\n",
              "      <script>\n",
              "        const buttonEl =\n",
              "          document.querySelector('#df-062fd021-f52d-40b8-8cd9-2cfb072df340 button.colab-df-convert');\n",
              "        buttonEl.style.display =\n",
              "          google.colab.kernel.accessAllowed ? 'block' : 'none';\n",
              "\n",
              "        async function convertToInteractive(key) {\n",
              "          const element = document.querySelector('#df-062fd021-f52d-40b8-8cd9-2cfb072df340');\n",
              "          const dataTable =\n",
              "            await google.colab.kernel.invokeFunction('convertToInteractive',\n",
              "                                                     [key], {});\n",
              "          if (!dataTable) return;\n",
              "\n",
              "          const docLinkHtml = 'Like what you see? Visit the ' +\n",
              "            '<a target=\"_blank\" href=https://colab.research.google.com/notebooks/data_table.ipynb>data table notebook</a>'\n",
              "            + ' to learn more about interactive tables.';\n",
              "          element.innerHTML = '';\n",
              "          dataTable['output_type'] = 'display_data';\n",
              "          await google.colab.output.renderOutput(dataTable, element);\n",
              "          const docLink = document.createElement('div');\n",
              "          docLink.innerHTML = docLinkHtml;\n",
              "          element.appendChild(docLink);\n",
              "        }\n",
              "      </script>\n",
              "    </div>\n",
              "  </div>\n",
              "  "
            ]
          },
          "metadata": {},
          "execution_count": 3
        }
      ]
    },
    {
      "cell_type": "markdown",
      "source": [
        "#Step 4: Model Patterns in the Data Using the FP Growth Algorithm\n",
        "* Run the following code block to calculate the support for each item and combination of items. The results should look the same as those in the table generated using the FP growth algorithm. "
      ],
      "metadata": {
        "id": "_UV6Anlnxw8x"
      }
    },
    {
      "cell_type": "code",
      "source": [
        "#Step 4\n",
        "\n",
        "fpgrowth(te, min_support=0.1, use_colnames=True)"
      ],
      "metadata": {
        "id": "He5GqKw4-Cfy",
        "colab": {
          "base_uri": "https://localhost:8080/",
          "height": 519
        },
        "outputId": "5593bc83-5df5-4899-94d3-160f48fe2cfc"
      },
      "execution_count": null,
      "outputs": [
        {
          "output_type": "execute_result",
          "data": {
            "text/plain": [
              "     support                              itemsets\n",
              "0   0.857143                       (peanut butter)\n",
              "1   0.714286                                (milk)\n",
              "2   0.571429                              (apples)\n",
              "3   0.428571                               (bread)\n",
              "4   0.571429                 (peanut butter, milk)\n",
              "5   0.428571                        (milk, apples)\n",
              "6   0.428571               (peanut butter, apples)\n",
              "7   0.285714         (milk, peanut butter, apples)\n",
              "8   0.428571                (bread, peanut butter)\n",
              "9   0.285714                         (bread, milk)\n",
              "10  0.142857                       (bread, apples)\n",
              "11  0.285714          (bread, peanut butter, milk)\n",
              "12  0.142857        (bread, peanut butter, apples)\n",
              "13  0.142857                 (milk, bread, apples)\n",
              "14  0.142857  (milk, bread, peanut butter, apples)"
            ],
            "text/html": [
              "\n",
              "  <div id=\"df-9922c713-5d85-4f91-b07b-e74feabd0eb1\">\n",
              "    <div class=\"colab-df-container\">\n",
              "      <div>\n",
              "<style scoped>\n",
              "    .dataframe tbody tr th:only-of-type {\n",
              "        vertical-align: middle;\n",
              "    }\n",
              "\n",
              "    .dataframe tbody tr th {\n",
              "        vertical-align: top;\n",
              "    }\n",
              "\n",
              "    .dataframe thead th {\n",
              "        text-align: right;\n",
              "    }\n",
              "</style>\n",
              "<table border=\"1\" class=\"dataframe\">\n",
              "  <thead>\n",
              "    <tr style=\"text-align: right;\">\n",
              "      <th></th>\n",
              "      <th>support</th>\n",
              "      <th>itemsets</th>\n",
              "    </tr>\n",
              "  </thead>\n",
              "  <tbody>\n",
              "    <tr>\n",
              "      <th>0</th>\n",
              "      <td>0.857143</td>\n",
              "      <td>(peanut butter)</td>\n",
              "    </tr>\n",
              "    <tr>\n",
              "      <th>1</th>\n",
              "      <td>0.714286</td>\n",
              "      <td>(milk)</td>\n",
              "    </tr>\n",
              "    <tr>\n",
              "      <th>2</th>\n",
              "      <td>0.571429</td>\n",
              "      <td>(apples)</td>\n",
              "    </tr>\n",
              "    <tr>\n",
              "      <th>3</th>\n",
              "      <td>0.428571</td>\n",
              "      <td>(bread)</td>\n",
              "    </tr>\n",
              "    <tr>\n",
              "      <th>4</th>\n",
              "      <td>0.571429</td>\n",
              "      <td>(peanut butter, milk)</td>\n",
              "    </tr>\n",
              "    <tr>\n",
              "      <th>5</th>\n",
              "      <td>0.428571</td>\n",
              "      <td>(milk, apples)</td>\n",
              "    </tr>\n",
              "    <tr>\n",
              "      <th>6</th>\n",
              "      <td>0.428571</td>\n",
              "      <td>(peanut butter, apples)</td>\n",
              "    </tr>\n",
              "    <tr>\n",
              "      <th>7</th>\n",
              "      <td>0.285714</td>\n",
              "      <td>(milk, peanut butter, apples)</td>\n",
              "    </tr>\n",
              "    <tr>\n",
              "      <th>8</th>\n",
              "      <td>0.428571</td>\n",
              "      <td>(bread, peanut butter)</td>\n",
              "    </tr>\n",
              "    <tr>\n",
              "      <th>9</th>\n",
              "      <td>0.285714</td>\n",
              "      <td>(bread, milk)</td>\n",
              "    </tr>\n",
              "    <tr>\n",
              "      <th>10</th>\n",
              "      <td>0.142857</td>\n",
              "      <td>(bread, apples)</td>\n",
              "    </tr>\n",
              "    <tr>\n",
              "      <th>11</th>\n",
              "      <td>0.285714</td>\n",
              "      <td>(bread, peanut butter, milk)</td>\n",
              "    </tr>\n",
              "    <tr>\n",
              "      <th>12</th>\n",
              "      <td>0.142857</td>\n",
              "      <td>(bread, peanut butter, apples)</td>\n",
              "    </tr>\n",
              "    <tr>\n",
              "      <th>13</th>\n",
              "      <td>0.142857</td>\n",
              "      <td>(milk, bread, apples)</td>\n",
              "    </tr>\n",
              "    <tr>\n",
              "      <th>14</th>\n",
              "      <td>0.142857</td>\n",
              "      <td>(milk, bread, peanut butter, apples)</td>\n",
              "    </tr>\n",
              "  </tbody>\n",
              "</table>\n",
              "</div>\n",
              "      <button class=\"colab-df-convert\" onclick=\"convertToInteractive('df-9922c713-5d85-4f91-b07b-e74feabd0eb1')\"\n",
              "              title=\"Convert this dataframe to an interactive table.\"\n",
              "              style=\"display:none;\">\n",
              "        \n",
              "  <svg xmlns=\"http://www.w3.org/2000/svg\" height=\"24px\"viewBox=\"0 0 24 24\"\n",
              "       width=\"24px\">\n",
              "    <path d=\"M0 0h24v24H0V0z\" fill=\"none\"/>\n",
              "    <path d=\"M18.56 5.44l.94 2.06.94-2.06 2.06-.94-2.06-.94-.94-2.06-.94 2.06-2.06.94zm-11 1L8.5 8.5l.94-2.06 2.06-.94-2.06-.94L8.5 2.5l-.94 2.06-2.06.94zm10 10l.94 2.06.94-2.06 2.06-.94-2.06-.94-.94-2.06-.94 2.06-2.06.94z\"/><path d=\"M17.41 7.96l-1.37-1.37c-.4-.4-.92-.59-1.43-.59-.52 0-1.04.2-1.43.59L10.3 9.45l-7.72 7.72c-.78.78-.78 2.05 0 2.83L4 21.41c.39.39.9.59 1.41.59.51 0 1.02-.2 1.41-.59l7.78-7.78 2.81-2.81c.8-.78.8-2.07 0-2.86zM5.41 20L4 18.59l7.72-7.72 1.47 1.35L5.41 20z\"/>\n",
              "  </svg>\n",
              "      </button>\n",
              "      \n",
              "  <style>\n",
              "    .colab-df-container {\n",
              "      display:flex;\n",
              "      flex-wrap:wrap;\n",
              "      gap: 12px;\n",
              "    }\n",
              "\n",
              "    .colab-df-convert {\n",
              "      background-color: #E8F0FE;\n",
              "      border: none;\n",
              "      border-radius: 50%;\n",
              "      cursor: pointer;\n",
              "      display: none;\n",
              "      fill: #1967D2;\n",
              "      height: 32px;\n",
              "      padding: 0 0 0 0;\n",
              "      width: 32px;\n",
              "    }\n",
              "\n",
              "    .colab-df-convert:hover {\n",
              "      background-color: #E2EBFA;\n",
              "      box-shadow: 0px 1px 2px rgba(60, 64, 67, 0.3), 0px 1px 3px 1px rgba(60, 64, 67, 0.15);\n",
              "      fill: #174EA6;\n",
              "    }\n",
              "\n",
              "    [theme=dark] .colab-df-convert {\n",
              "      background-color: #3B4455;\n",
              "      fill: #D2E3FC;\n",
              "    }\n",
              "\n",
              "    [theme=dark] .colab-df-convert:hover {\n",
              "      background-color: #434B5C;\n",
              "      box-shadow: 0px 1px 3px 1px rgba(0, 0, 0, 0.15);\n",
              "      filter: drop-shadow(0px 1px 2px rgba(0, 0, 0, 0.3));\n",
              "      fill: #FFFFFF;\n",
              "    }\n",
              "  </style>\n",
              "\n",
              "      <script>\n",
              "        const buttonEl =\n",
              "          document.querySelector('#df-9922c713-5d85-4f91-b07b-e74feabd0eb1 button.colab-df-convert');\n",
              "        buttonEl.style.display =\n",
              "          google.colab.kernel.accessAllowed ? 'block' : 'none';\n",
              "\n",
              "        async function convertToInteractive(key) {\n",
              "          const element = document.querySelector('#df-9922c713-5d85-4f91-b07b-e74feabd0eb1');\n",
              "          const dataTable =\n",
              "            await google.colab.kernel.invokeFunction('convertToInteractive',\n",
              "                                                     [key], {});\n",
              "          if (!dataTable) return;\n",
              "\n",
              "          const docLinkHtml = 'Like what you see? Visit the ' +\n",
              "            '<a target=\"_blank\" href=https://colab.research.google.com/notebooks/data_table.ipynb>data table notebook</a>'\n",
              "            + ' to learn more about interactive tables.';\n",
              "          element.innerHTML = '';\n",
              "          dataTable['output_type'] = 'display_data';\n",
              "          await google.colab.output.renderOutput(dataTable, element);\n",
              "          const docLink = document.createElement('div');\n",
              "          docLink.innerHTML = docLinkHtml;\n",
              "          element.appendChild(docLink);\n",
              "        }\n",
              "      </script>\n",
              "    </div>\n",
              "  </div>\n",
              "  "
            ]
          },
          "metadata": {},
          "execution_count": 4
        }
      ]
    },
    {
      "cell_type": "markdown",
      "source": [
        "#Step 5: Compare the Computational Speeds\n",
        "* The main difference between the Apriori and FP growth algorithms is in how long it takes for each algorithm to run.\n",
        "* Run the following two code blocks. The top code block prints how long it takes to run the Apriori algorithm on the data. The second block prints how long it takes to model the same relationships in the data using the FP growth algorithm.\n",
        "* Compare the two times. Note that \"ms\" is miliseconds and \"$μ$s\" is microseconds. There are 1,000 $μ$s in 1 ms."
      ],
      "metadata": {
        "id": "5_chN87_yXZP"
      }
    },
    {
      "cell_type": "code",
      "source": [
        "#Step 5\n",
        "\n",
        "#Time the apriori algorithm\n",
        "\n",
        "%timeit -n 100 -r 10 apriori(te, min_support=0.6)"
      ],
      "metadata": {
        "id": "u58lKTU_RDFf",
        "colab": {
          "base_uri": "https://localhost:8080/"
        },
        "outputId": "8989ca5e-5585-4d6e-fc21-a7aad3d9ac7e"
      },
      "execution_count": null,
      "outputs": [
        {
          "output_type": "stream",
          "name": "stdout",
          "text": [
            "1.65 ms ± 94.1 µs per loop (mean ± std. dev. of 10 runs, 100 loops each)\n"
          ]
        }
      ]
    },
    {
      "cell_type": "code",
      "metadata": {
        "id": "EJuinOb-yEAv",
        "colab": {
          "base_uri": "https://localhost:8080/"
        },
        "outputId": "f0dcb7c8-4045-4583-ff4c-f9e9332691e6"
      },
      "source": [
        "#Step 5\n",
        "\n",
        "#Time FP Growth\n",
        "\n",
        "%timeit -n 100 -r 10 fpgrowth(te, min_support=0.6)"
      ],
      "execution_count": null,
      "outputs": [
        {
          "output_type": "stream",
          "name": "stdout",
          "text": [
            "1.02 ms ± 61.4 µs per loop (mean ± std. dev. of 10 runs, 100 loops each)\n"
          ]
        }
      ]
    },
    {
      "cell_type": "markdown",
      "source": [
        "**Step 5 Answer:**\n"
      ],
      "metadata": {
        "id": "JXiEotmFz66J"
      }
    }
  ]
}