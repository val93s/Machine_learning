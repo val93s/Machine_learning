{
  "nbformat": 4,
  "nbformat_minor": 0,
  "metadata": {
    "accelerator": "GPU",
    "colab": {
      "provenance": [],
      "include_colab_link": true
    },
    "kernelspec": {
      "display_name": "Python 3",
      "name": "python3"
    }
  },
  "cells": [
    {
      "cell_type": "markdown",
      "metadata": {
        "id": "view-in-github",
        "colab_type": "text"
      },
      "source": [
        "<a href=\"https://colab.research.google.com/github/val93s/Machine_learning/blob/main/Copy_of_11_11_3_Activity.ipynb\" target=\"_parent\"><img src=\"https://colab.research.google.com/assets/colab-badge.svg\" alt=\"Open In Colab\"/></a>"
      ]
    },
    {
      "cell_type": "markdown",
      "metadata": {
        "id": "hX4n9TsbGw-f"
      },
      "source": [
        "# Activity 11.11.3\n",
        "\n",
        "Imagine that you work for Spotify or another music streaming service. A listener wants to stream upbeat songs for a party. They just gave *Call Me Maybe* by Carly Rae Jepsen a 5-star rating. Now that you know a bit about what the listener likes, you want to use that information to select the next song.\n",
        "\n",
        "Two potential similar songs are *Firework* by Katy Perry and *22* by Taylor Swift. You want to play the one that is most similar to *Call Me Maybe* next. You can use cosine similarity to determine if *Firework* or *22* is most similar to *Call Me Maybe.*"
      ]
    },
    {
      "cell_type": "markdown",
      "source": [
        "#Step 1: Install the Necessary Packages\n",
        "\n",
        "Install the necessary packages as follows:\n",
        "\n",
        "```\n",
        "\n",
        "import pandas as pd\n",
        "import pandas as pd\n",
        "from sklearn.feature_extraction.text import CountVectorizer\n",
        "from sklearn.metrics.pairwise import cosine_similarity\n",
        "\n",
        "```"
      ],
      "metadata": {
        "id": "eOE0IPoIQ91v"
      }
    },
    {
      "cell_type": "code",
      "metadata": {
        "id": "z682XYsrjkY9"
      },
      "source": [
        "#Step 1\n",
        "import pandas as pd\n",
        "import pandas as pd\n",
        "from sklearn.feature_extraction.text import CountVectorizer\n",
        "from sklearn.metrics.pairwise import cosine_similarity\n",
        "\n"
      ],
      "execution_count": null,
      "outputs": []
    },
    {
      "cell_type": "markdown",
      "source": [
        "#Step 2: Read in the Data\n",
        "* Run the following code block to read in the lyrics for each song as a string. Note that apostropes have been removed for simplicity.\n",
        "\n"
      ],
      "metadata": {
        "id": "n7sNwMRcRcLx"
      }
    },
    {
      "cell_type": "code",
      "source": [
        "#Step 2\n",
        "\n",
        "Maybe = \"I threw a wish in the well Dont ask me, Ill never tell I looked to you as it fell And now youre in my way I trade my soul for a wish Pennies and dimes for a kiss I wasnt looking for this But now youre in my way Your stare was holdin Ripped jeans, skin was showin Hot night, wind was blowin Where you think youre going, baby? Hey, I just met you, and this is crazy But heres my number, so call me, maybe Its hard to look right at you, baby But heres my number, so call me, maybe Hey, I just met you, and this is crazy But heres my number, so call me, maybe And all the other boys try to chase me But heres my number, so call me, maybe You took your time with the call I took no time with the fall You gave me nothing at all But still, youre in my way I beg and borrow and steal At first sight, and its real I didnt know I would feel it But its in my way Your stare was holdin Ripped jeans, skin was showin Hot night, wind was blowin Where you think youre going, baby? Hey, I just met you, and this is crazy But heres my number, so call me, maybe Its hard to look right at you, baby But heres my number, so call me, maybe Hey, I just met you, and this is crazy But heres my number, so call me, maybe And all the other boys try to chase me But heres my number, so call me, maybe Before you came into my life, I missed you so bad I missed you so bad, I missed you so, so bad Before you came into my life, I missed you so bad And you should know that I missed you so, so bad (Bad, bad, bad, bad, bad, bad) Its hard to look right at you, baby But heres my number, so call me, maybe Hey, I just met you, and this is crazy But heres my number, so call me, maybe And all the other boys try to chase me But heres my number, so call me, maybe Before you came into my life, I missed you so bad I missed you so bad, I missed you so, so bad Before you came into my life, I missed you so bad And you should know that So call me maybe\"\n",
        "\n",
        "TwentyTwo = \"It feels like a perfect night To dress up like hipsters And make fun of our exes Ah-ah, ah-ah It feels like a perfect night For breakfast at midnight To fall in love with strangers Ah-ah, ah-ah Yeah, were happy, free, confused and lonely at the same time Its miserable and magical, oh yeah Tonights the night when we forget about the deadlines Its time, oh-oh I dont know about you But Im feeling 22 Everything will be alright if You keep me next to you You dont know about me But Ill bet you want to Everything will be alright if We just keep dancing like were 22, 22 It seems like one of those nights This place is too crowded Too many cool kids (Whos Taylor Swift anyway? Ew) Ah-ah, ah-ah It seems like one of those nights We ditch the whole scene And end up dreamin instead of sleeping, yeah Were happy, free, confused and lonely in the best way Its miserable and magical, oh yeah Tonights the night when we forget about the heartbreaks Its time, oh-oh I dont know about you But Im feeling 22 Everything will be alright if You keep me next to you You dont know about me But Ill bet you want to Everything will be alright if We just keep dancing like were 22 (Oh, oh, oh, oh) 22 I dont know about you 22, 22 It feels like one of those nights We ditch the whole scene It feels like one of those nights We wont be sleeping It feels like one of those nights You look like bad news I gotta have you I gotta have you Ooh, ooh, yeah, yeah I dont know about you But Im feeling 22 Everything will be alright if (Ooh) You keep me next to you You dont know about me But Ill bet you want to Everything will be alright if We just keep dancing like were 22 22 (Dancing like) 22 (Yeah, yeah) 22 (Yeah, yeah, yeah) It feels like one of those nights We ditch the whole scene It feels like one of those nights We wont be sleeping It feels like one of those nights You look like bad news I gotta have you I gotta have you\"\n",
        "\n",
        "Firework = \"Do you ever feel like a plastic bag Drifting through the wind, wanting to start again? Do you ever feel, feel so paper thin Like a house of cards, one blow from cavin in? Do you ever feel already buried deep? Six feet under screams, but no one seems to hear a thing Do you know that theres still a chance for you? Cause theres a spark in you You just gotta ignite the light And let it shine Just own the night Like the Fourth of July Cause baby, youre a firework Come on, show em what youre worth Make em go, Oh, oh, oh As you shoot across the sky Baby, youre a firework Come on, let your colors burst Make em go, Oh, oh, oh Youre gonna leave 'em all in awe, awe, awe You dont have to feel like a waste of space Youre original, cannot be replaced If you only knew what the future holds After a hurricane comes a rainbow Maybe a reason why all the doors are closed So you could open one that leads you to the perfect road Like a lightning bolt, your heart will glow And when its time, you'll know You just gotta ignite the light And let it shine Just own the night Like the Fourth of July Cause baby, youre a firework Come on, show em what you're worth Make em go, Oh, oh, oh As you shoot across the sky Baby, youre a firework Come on, let your colors burst Make em go, Oh, oh, oh Youre gonna leave em all in awe, awe, awe Boom, boom, boom Even brighter than the moon, moon, moon Its always been inside of you, you, you And now its time to let it through Cause baby, youre a firework Come on, show em what youre worth Make em go, Oh, oh, oh As you shoot across the sky Baby, youre a firework Come on, let your colors burst Make em go, Oh, oh, oh Youre gonna leave em all in awe, awe, awe Boom, boom, boom Even brighter than the moon, moon, moon Boom, boom, boom Even brighter than the moon, moon, moon\"\n",
        "\n",
        "songs = [Maybe, TwentyTwo, Firework]"
      ],
      "metadata": {
        "id": "oAIO9eZxRt5T"
      },
      "execution_count": null,
      "outputs": []
    },
    {
      "cell_type": "markdown",
      "metadata": {
        "id": "2HTfAmcZN0FC"
      },
      "source": [
        "#Step 3: Encode the Data \n",
        "* You will use `CountVectorizer` from scikit-learn (sklearn) to encode the song lyrics. You'll learn more about this technique in the natural language processing modules; however, it creates a data set with a count of each word in each song. These word counts become the features being compared when calculating the cosine similarity between each song.\n",
        "* Run the code block to transform the song lyrics and print the results in a readable format."
      ]
    },
    {
      "cell_type": "code",
      "metadata": {
        "id": "jnmR2KLfNzNz",
        "colab": {
          "base_uri": "https://localhost:8080/"
        },
        "outputId": "fe7afa61-4e01-406a-e90c-5b205afb6a6b"
      },
      "source": [
        "#Step 3\n",
        "\n",
        "count_vectorizer = CountVectorizer(stop_words='english')\n",
        "lyric_matrix = count_vectorizer.fit_transform(songs)\n",
        "\n",
        "read_lyrics_ = lyric_matrix.todense()\n",
        "read_lyrics = pd.DataFrame(read_lyrics_, \n",
        "                  columns=count_vectorizer.get_feature_names(), \n",
        "                  index=['Maybe', 'TwentyTwo', 'Firework'])\n",
        "\n",
        "print(read_lyrics)"
      ],
      "execution_count": null,
      "outputs": [
        {
          "output_type": "stream",
          "name": "stdout",
          "text": [
            "           22  ah  alright  ask  awe  baby  bad  bag  beg  best  ...  wasnt  \\\n",
            "Maybe       0   0        0    1    0     5   15    0    1     0  ...      1   \n",
            "TwentyTwo  13  12        6    0    0     0    2    0    0     1  ...      0   \n",
            "Firework    0   0        0    0    9     6    0    1    0     0  ...      0   \n",
            "\n",
            "           waste  way  whos  wind  wish  wont  worth  yeah  youre  \n",
            "Maybe          0    4     0     2     2     0      0     0      5  \n",
            "TwentyTwo      0    1     1     0     0     2      0    11      0  \n",
            "Firework       1    0     0     1     0     0      3     0     12  \n",
            "\n",
            "[3 rows x 173 columns]\n"
          ]
        },
        {
          "output_type": "stream",
          "name": "stderr",
          "text": [
            "/usr/local/lib/python3.8/dist-packages/sklearn/utils/deprecation.py:87: FutureWarning: Function get_feature_names is deprecated; get_feature_names is deprecated in 1.0 and will be removed in 1.2. Please use get_feature_names_out instead.\n",
            "  warnings.warn(msg, category=FutureWarning)\n"
          ]
        }
      ]
    },
    {
      "cell_type": "markdown",
      "source": [
        "#Step 4: Calculate the Cosine Similarity Between Pairs of Songs\n",
        "* Run the following code block to calculate the cosine similarity between pairs of songs. Which songs are most similar? Which songs are least similar?"
      ],
      "metadata": {
        "id": "_UV6Anlnxw8x"
      }
    },
    {
      "cell_type": "code",
      "source": [
        "#Step 4\n",
        "\n",
        "similarity = cosine_similarity(read_lyrics, read_lyrics)\n",
        "\n",
        "\n",
        "print('The cosine similarity between Call Me Maybe and 22 is', str(similarity[0,1]))\n",
        "print('The cosine similarity between Call Me Maybe and Firework is', str(similarity[0,2]))\n",
        "print('The cosine similarity between 22 and Firework is', str(similarity[1,2]))"
      ],
      "metadata": {
        "id": "He5GqKw4-Cfy",
        "colab": {
          "base_uri": "https://localhost:8080/"
        },
        "outputId": "b87b9bb6-c57d-44c0-bf88-89910732e0a0"
      },
      "execution_count": null,
      "outputs": [
        {
          "output_type": "stream",
          "name": "stdout",
          "text": [
            "The cosine similarity between Call Me Maybe and 22 is 0.08673046459324454\n",
            "The cosine similarity between Call Me Maybe and Firework is 0.12485332209016375\n",
            "The cosine similarity between 22 and Firework is 0.26611340990186116\n"
          ]
        }
      ]
    },
    {
      "cell_type": "markdown",
      "source": [
        "**Step 4 Answer:**\n",
        "\n"
      ],
      "metadata": {
        "id": "JMpa3gks_lpl"
      }
    }
  ]
}