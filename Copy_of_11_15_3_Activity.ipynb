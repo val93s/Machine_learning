{
  "nbformat": 4,
  "nbformat_minor": 0,
  "metadata": {
    "accelerator": "GPU",
    "colab": {
      "provenance": [],
      "include_colab_link": true
    },
    "kernelspec": {
      "display_name": "Python 3",
      "name": "python3"
    }
  },
  "cells": [
    {
      "cell_type": "markdown",
      "metadata": {
        "id": "view-in-github",
        "colab_type": "text"
      },
      "source": [
        "<a href=\"https://colab.research.google.com/github/val93s/Machine_learning/blob/main/Copy_of_11_15_3_Activity.ipynb\" target=\"_parent\"><img src=\"https://colab.research.google.com/assets/colab-badge.svg\" alt=\"Open In Colab\"/></a>"
      ]
    },
    {
      "cell_type": "markdown",
      "metadata": {
        "id": "hX4n9TsbGw-f"
      },
      "source": [
        "# Activity 11.15.3\n",
        "\n",
        "In this activity, we will use reinforcement learning to teach a cart to move so that a wobbly pole balanced on top of it remains upright.\n"
      ]
    },
    {
      "cell_type": "markdown",
      "source": [
        "##Step 1: Install the necessary packages\n",
        "\n",
        "\n",
        "```\n",
        "!sudo apt-get update\n",
        "!sudo apt-get install -y xvfb ffmpeg freeglut3-dev\n",
        "!pip install 'imageio==2.4.0'\n",
        "!pip install pyvirtualdisplay\n",
        "!pip install tf-agents[reverb]\n",
        "!pip install pyglet\n",
        "\n",
        "from __future__ import absolute_import, division, print_function\n",
        "\n",
        "import base64\n",
        "import imageio\n",
        "import IPython\n",
        "import matplotlib\n",
        "import matplotlib.pyplot as plt\n",
        "import numpy as np\n",
        "import PIL.Image\n",
        "import pyvirtualdisplay\n",
        "import reverb\n",
        "\n",
        "import tensorflow as tf\n",
        "\n",
        "from tf_agents.agents.dqn import dqn_agent\n",
        "from tf_agents.drivers import py_driver\n",
        "from tf_agents.environments import suite_gym\n",
        "from tf_agents.environments import tf_py_environment\n",
        "from tf_agents.eval import metric_utils\n",
        "from tf_agents.metrics import tf_metrics\n",
        "from tf_agents.networks import sequential\n",
        "from tf_agents.policies import py_tf_eager_policy\n",
        "from tf_agents.policies import random_tf_policy\n",
        "from tf_agents.replay_buffers import reverb_replay_buffer\n",
        "from tf_agents.replay_buffers import reverb_utils\n",
        "from tf_agents.trajectories import trajectory\n",
        "from tf_agents.specs import tensor_spec\n",
        "from tf_agents.utils import common\n",
        "\n",
        "```"
      ],
      "metadata": {
        "id": "eOE0IPoIQ91v"
      }
    },
    {
      "cell_type": "code",
      "metadata": {
        "id": "z682XYsrjkY9",
        "colab": {
          "base_uri": "https://localhost:8080/"
        },
        "outputId": "69fcf970-0c72-42af-bcc7-cdfba517a2ff"
      },
      "source": [
        "#Step 1\n",
        "!sudo apt-get update\n",
        "!sudo apt-get install -y xvfb ffmpeg freeglut3-dev\n",
        "!pip install 'imageio==2.4.0'\n",
        "!pip install pyvirtualdisplay\n",
        "!pip install tf-agents[reverb]\n",
        "!pip install pyglet\n",
        "\n",
        "from __future__ import absolute_import, division, print_function\n",
        "\n",
        "import base64\n",
        "import imageio\n",
        "import IPython\n",
        "import matplotlib\n",
        "import matplotlib.pyplot as plt\n",
        "import numpy as np\n",
        "import PIL.Image\n",
        "import pyvirtualdisplay\n",
        "import reverb\n",
        "\n",
        "import tensorflow as tf\n",
        "\n",
        "from tf_agents.agents.dqn import dqn_agent\n",
        "from tf_agents.drivers import py_driver\n",
        "from tf_agents.environments import suite_gym\n",
        "from tf_agents.environments import tf_py_environment\n",
        "from tf_agents.eval import metric_utils\n",
        "from tf_agents.metrics import tf_metrics\n",
        "from tf_agents.networks import sequential\n",
        "from tf_agents.policies import py_tf_eager_policy\n",
        "from tf_agents.policies import random_tf_policy\n",
        "from tf_agents.replay_buffers import reverb_replay_buffer\n",
        "from tf_agents.replay_buffers import reverb_utils\n",
        "from tf_agents.trajectories import trajectory\n",
        "from tf_agents.specs import tensor_spec\n",
        "from tf_agents.utils import common\n"
      ],
      "execution_count": null,
      "outputs": [
        {
          "output_type": "stream",
          "name": "stdout",
          "text": [
            "Hit:1 https://cloud.r-project.org/bin/linux/ubuntu focal-cran40/ InRelease\n",
            "Hit:2 http://archive.ubuntu.com/ubuntu focal InRelease\n",
            "Hit:3 http://ppa.launchpad.net/c2d4u.team/c2d4u4.0+/ubuntu focal InRelease\n",
            "Ign:4 https://developer.download.nvidia.com/compute/machine-learning/repos/ubuntu2004/x86_64  InRelease\n",
            "Hit:5 https://developer.download.nvidia.com/compute/cuda/repos/ubuntu2004/x86_64  InRelease\n",
            "Hit:6 https://developer.download.nvidia.com/compute/machine-learning/repos/ubuntu2004/x86_64  Release\n",
            "Hit:7 http://security.ubuntu.com/ubuntu focal-security InRelease\n",
            "Hit:8 http://archive.ubuntu.com/ubuntu focal-updates InRelease\n",
            "Hit:10 http://archive.ubuntu.com/ubuntu focal-backports InRelease\n",
            "Hit:11 http://ppa.launchpad.net/cran/libgit2/ubuntu focal InRelease\n",
            "Hit:12 http://ppa.launchpad.net/deadsnakes/ppa/ubuntu focal InRelease\n",
            "Hit:13 http://ppa.launchpad.net/graphics-drivers/ppa/ubuntu focal InRelease\n",
            "Hit:14 http://ppa.launchpad.net/ubuntugis/ppa/ubuntu focal InRelease\n",
            "Reading package lists... Done\n",
            "Reading package lists... Done\n",
            "Building dependency tree       \n",
            "Reading state information... Done\n",
            "freeglut3-dev is already the newest version (2.8.1-3).\n",
            "ffmpeg is already the newest version (7:4.2.7-0ubuntu0.1).\n",
            "xvfb is already the newest version (2:1.20.13-1ubuntu1~20.04.6).\n",
            "0 upgraded, 0 newly installed, 0 to remove and 30 not upgraded.\n",
            "Looking in indexes: https://pypi.org/simple, https://us-python.pkg.dev/colab-wheels/public/simple/\n",
            "Requirement already satisfied: imageio==2.4.0 in /usr/local/lib/python3.9/dist-packages (2.4.0)\n",
            "Requirement already satisfied: numpy in /usr/local/lib/python3.9/dist-packages (from imageio==2.4.0) (1.22.4)\n",
            "Requirement already satisfied: pillow in /usr/local/lib/python3.9/dist-packages (from imageio==2.4.0) (8.4.0)\n",
            "Looking in indexes: https://pypi.org/simple, https://us-python.pkg.dev/colab-wheels/public/simple/\n",
            "Requirement already satisfied: pyvirtualdisplay in /usr/local/lib/python3.9/dist-packages (3.0)\n",
            "Looking in indexes: https://pypi.org/simple, https://us-python.pkg.dev/colab-wheels/public/simple/\n",
            "Requirement already satisfied: tf-agents[reverb] in /usr/local/lib/python3.9/dist-packages (0.15.0)\n",
            "Requirement already satisfied: absl-py>=0.6.1 in /usr/local/lib/python3.9/dist-packages (from tf-agents[reverb]) (1.4.0)\n",
            "Requirement already satisfied: typing-extensions>=3.7.4.3 in /usr/local/lib/python3.9/dist-packages (from tf-agents[reverb]) (4.5.0)\n",
            "Requirement already satisfied: gym<=0.23.0,>=0.17.0 in /usr/local/lib/python3.9/dist-packages (from tf-agents[reverb]) (0.23.0)\n",
            "Requirement already satisfied: tensorflow-probability>=0.18.0 in /usr/local/lib/python3.9/dist-packages (from tf-agents[reverb]) (0.19.0)\n",
            "Requirement already satisfied: pygame==2.1.0 in /usr/local/lib/python3.9/dist-packages (from tf-agents[reverb]) (2.1.0)\n",
            "Requirement already satisfied: numpy>=1.13.3 in /usr/local/lib/python3.9/dist-packages (from tf-agents[reverb]) (1.22.4)\n",
            "Requirement already satisfied: wrapt>=1.11.1 in /usr/local/lib/python3.9/dist-packages (from tf-agents[reverb]) (1.15.0)\n",
            "Requirement already satisfied: six>=1.10.0 in /usr/local/lib/python3.9/dist-packages (from tf-agents[reverb]) (1.15.0)\n",
            "Requirement already satisfied: pillow in /usr/local/lib/python3.9/dist-packages (from tf-agents[reverb]) (8.4.0)\n",
            "Requirement already satisfied: protobuf>=3.11.3 in /usr/local/lib/python3.9/dist-packages (from tf-agents[reverb]) (3.19.6)\n",
            "Requirement already satisfied: cloudpickle>=1.3 in /usr/local/lib/python3.9/dist-packages (from tf-agents[reverb]) (2.2.1)\n",
            "Requirement already satisfied: gin-config>=0.4.0 in /usr/local/lib/python3.9/dist-packages (from tf-agents[reverb]) (0.5.0)\n",
            "Requirement already satisfied: dm-reverb~=0.10.0 in /usr/local/lib/python3.9/dist-packages (from tf-agents[reverb]) (0.10.0)\n",
            "Requirement already satisfied: tensorflow==2.11.0 in /usr/local/lib/python3.9/dist-packages (from tf-agents[reverb]) (2.11.0)\n",
            "Requirement already satisfied: rlds in /usr/local/lib/python3.9/dist-packages (from tf-agents[reverb]) (0.1.7)\n",
            "Requirement already satisfied: keras<2.12,>=2.11.0 in /usr/local/lib/python3.9/dist-packages (from tensorflow==2.11.0->tf-agents[reverb]) (2.11.0)\n",
            "Requirement already satisfied: setuptools in /usr/local/lib/python3.9/dist-packages (from tensorflow==2.11.0->tf-agents[reverb]) (57.4.0)\n",
            "Requirement already satisfied: termcolor>=1.1.0 in /usr/local/lib/python3.9/dist-packages (from tensorflow==2.11.0->tf-agents[reverb]) (2.2.0)\n",
            "Requirement already satisfied: flatbuffers>=2.0 in /usr/local/lib/python3.9/dist-packages (from tensorflow==2.11.0->tf-agents[reverb]) (23.3.3)\n",
            "Requirement already satisfied: astunparse>=1.6.0 in /usr/local/lib/python3.9/dist-packages (from tensorflow==2.11.0->tf-agents[reverb]) (1.6.3)\n",
            "Requirement already satisfied: tensorflow-estimator<2.12,>=2.11.0 in /usr/local/lib/python3.9/dist-packages (from tensorflow==2.11.0->tf-agents[reverb]) (2.11.0)\n",
            "Requirement already satisfied: google-pasta>=0.1.1 in /usr/local/lib/python3.9/dist-packages (from tensorflow==2.11.0->tf-agents[reverb]) (0.2.0)\n",
            "Requirement already satisfied: tensorflow-io-gcs-filesystem>=0.23.1 in /usr/local/lib/python3.9/dist-packages (from tensorflow==2.11.0->tf-agents[reverb]) (0.31.0)\n",
            "Requirement already satisfied: h5py>=2.9.0 in /usr/local/lib/python3.9/dist-packages (from tensorflow==2.11.0->tf-agents[reverb]) (3.1.0)\n",
            "Requirement already satisfied: tensorboard<2.12,>=2.11 in /usr/local/lib/python3.9/dist-packages (from tensorflow==2.11.0->tf-agents[reverb]) (2.11.2)\n",
            "Requirement already satisfied: packaging in /usr/local/lib/python3.9/dist-packages (from tensorflow==2.11.0->tf-agents[reverb]) (23.0)\n",
            "Requirement already satisfied: opt-einsum>=2.3.2 in /usr/local/lib/python3.9/dist-packages (from tensorflow==2.11.0->tf-agents[reverb]) (3.3.0)\n",
            "Requirement already satisfied: libclang>=13.0.0 in /usr/local/lib/python3.9/dist-packages (from tensorflow==2.11.0->tf-agents[reverb]) (15.0.6.1)\n",
            "Requirement already satisfied: grpcio<2.0,>=1.24.3 in /usr/local/lib/python3.9/dist-packages (from tensorflow==2.11.0->tf-agents[reverb]) (1.51.3)\n",
            "Requirement already satisfied: gast<=0.4.0,>=0.2.1 in /usr/local/lib/python3.9/dist-packages (from tensorflow==2.11.0->tf-agents[reverb]) (0.4.0)\n",
            "Requirement already satisfied: portpicker in /usr/local/lib/python3.9/dist-packages (from dm-reverb~=0.10.0->tf-agents[reverb]) (1.3.9)\n",
            "Requirement already satisfied: dm-tree in /usr/local/lib/python3.9/dist-packages (from dm-reverb~=0.10.0->tf-agents[reverb]) (0.1.8)\n",
            "Requirement already satisfied: importlib-metadata>=4.10.0 in /usr/local/lib/python3.9/dist-packages (from gym<=0.23.0,>=0.17.0->tf-agents[reverb]) (6.0.0)\n",
            "Requirement already satisfied: gym-notices>=0.0.4 in /usr/local/lib/python3.9/dist-packages (from gym<=0.23.0,>=0.17.0->tf-agents[reverb]) (0.0.8)\n",
            "Requirement already satisfied: decorator in /usr/local/lib/python3.9/dist-packages (from tensorflow-probability>=0.18.0->tf-agents[reverb]) (4.4.2)\n",
            "Requirement already satisfied: wheel<1.0,>=0.23.0 in /usr/local/lib/python3.9/dist-packages (from astunparse>=1.6.0->tensorflow==2.11.0->tf-agents[reverb]) (0.38.4)\n",
            "Requirement already satisfied: zipp>=0.5 in /usr/local/lib/python3.9/dist-packages (from importlib-metadata>=4.10.0->gym<=0.23.0,>=0.17.0->tf-agents[reverb]) (3.15.0)\n",
            "Requirement already satisfied: requests<3,>=2.21.0 in /usr/local/lib/python3.9/dist-packages (from tensorboard<2.12,>=2.11->tensorflow==2.11.0->tf-agents[reverb]) (2.25.1)\n",
            "Requirement already satisfied: google-auth-oauthlib<0.5,>=0.4.1 in /usr/local/lib/python3.9/dist-packages (from tensorboard<2.12,>=2.11->tensorflow==2.11.0->tf-agents[reverb]) (0.4.6)\n",
            "Requirement already satisfied: google-auth<3,>=1.6.3 in /usr/local/lib/python3.9/dist-packages (from tensorboard<2.12,>=2.11->tensorflow==2.11.0->tf-agents[reverb]) (2.16.2)\n",
            "Requirement already satisfied: tensorboard-plugin-wit>=1.6.0 in /usr/local/lib/python3.9/dist-packages (from tensorboard<2.12,>=2.11->tensorflow==2.11.0->tf-agents[reverb]) (1.8.1)\n",
            "Requirement already satisfied: markdown>=2.6.8 in /usr/local/lib/python3.9/dist-packages (from tensorboard<2.12,>=2.11->tensorflow==2.11.0->tf-agents[reverb]) (3.4.1)\n",
            "Requirement already satisfied: werkzeug>=1.0.1 in /usr/local/lib/python3.9/dist-packages (from tensorboard<2.12,>=2.11->tensorflow==2.11.0->tf-agents[reverb]) (2.2.3)\n",
            "Requirement already satisfied: tensorboard-data-server<0.7.0,>=0.6.0 in /usr/local/lib/python3.9/dist-packages (from tensorboard<2.12,>=2.11->tensorflow==2.11.0->tf-agents[reverb]) (0.6.1)\n",
            "Requirement already satisfied: rsa<5,>=3.1.4 in /usr/local/lib/python3.9/dist-packages (from google-auth<3,>=1.6.3->tensorboard<2.12,>=2.11->tensorflow==2.11.0->tf-agents[reverb]) (4.9)\n",
            "Requirement already satisfied: pyasn1-modules>=0.2.1 in /usr/local/lib/python3.9/dist-packages (from google-auth<3,>=1.6.3->tensorboard<2.12,>=2.11->tensorflow==2.11.0->tf-agents[reverb]) (0.2.8)\n",
            "Requirement already satisfied: cachetools<6.0,>=2.0.0 in /usr/local/lib/python3.9/dist-packages (from google-auth<3,>=1.6.3->tensorboard<2.12,>=2.11->tensorflow==2.11.0->tf-agents[reverb]) (5.3.0)\n",
            "Requirement already satisfied: requests-oauthlib>=0.7.0 in /usr/local/lib/python3.9/dist-packages (from google-auth-oauthlib<0.5,>=0.4.1->tensorboard<2.12,>=2.11->tensorflow==2.11.0->tf-agents[reverb]) (1.3.1)\n",
            "Requirement already satisfied: certifi>=2017.4.17 in /usr/local/lib/python3.9/dist-packages (from requests<3,>=2.21.0->tensorboard<2.12,>=2.11->tensorflow==2.11.0->tf-agents[reverb]) (2022.12.7)\n",
            "Requirement already satisfied: urllib3<1.27,>=1.21.1 in /usr/local/lib/python3.9/dist-packages (from requests<3,>=2.21.0->tensorboard<2.12,>=2.11->tensorflow==2.11.0->tf-agents[reverb]) (1.26.14)\n",
            "Requirement already satisfied: chardet<5,>=3.0.2 in /usr/local/lib/python3.9/dist-packages (from requests<3,>=2.21.0->tensorboard<2.12,>=2.11->tensorflow==2.11.0->tf-agents[reverb]) (4.0.0)\n",
            "Requirement already satisfied: idna<3,>=2.5 in /usr/local/lib/python3.9/dist-packages (from requests<3,>=2.21.0->tensorboard<2.12,>=2.11->tensorflow==2.11.0->tf-agents[reverb]) (2.10)\n",
            "Requirement already satisfied: MarkupSafe>=2.1.1 in /usr/local/lib/python3.9/dist-packages (from werkzeug>=1.0.1->tensorboard<2.12,>=2.11->tensorflow==2.11.0->tf-agents[reverb]) (2.1.2)\n",
            "Requirement already satisfied: pyasn1<0.5.0,>=0.4.6 in /usr/local/lib/python3.9/dist-packages (from pyasn1-modules>=0.2.1->google-auth<3,>=1.6.3->tensorboard<2.12,>=2.11->tensorflow==2.11.0->tf-agents[reverb]) (0.4.8)\n",
            "Requirement already satisfied: oauthlib>=3.0.0 in /usr/local/lib/python3.9/dist-packages (from requests-oauthlib>=0.7.0->google-auth-oauthlib<0.5,>=0.4.1->tensorboard<2.12,>=2.11->tensorflow==2.11.0->tf-agents[reverb]) (3.2.2)\n",
            "Looking in indexes: https://pypi.org/simple, https://us-python.pkg.dev/colab-wheels/public/simple/\n",
            "Requirement already satisfied: pyglet in /usr/local/lib/python3.9/dist-packages (2.0.5)\n"
          ]
        }
      ]
    },
    {
      "cell_type": "markdown",
      "source": [
        "##Step 2: Create the environment\n",
        "* Run the following code block to create our wiggly pole and cart environment.\n",
        "* The black rectangle is the cart."
      ],
      "metadata": {
        "id": "Y4LC_egITjfi"
      }
    },
    {
      "cell_type": "code",
      "source": [
        "#Step 2\n",
        "\n",
        "display = pyvirtualdisplay.Display(visible=0, size=(1400, 900)).start()\n",
        "\n",
        "num_iterations = 20000 \n",
        "\n",
        "initial_collect_steps = 100  \n",
        "collect_steps_per_iteration =   1# \n",
        "replay_buffer_max_length = 100000  # \n",
        "\n",
        "batch_size = 64  \n",
        "learning_rate = 1e-3  \n",
        "log_interval = 200  # \n",
        "\n",
        "num_eval_episodes = 10  \n",
        "eval_interval = 1000  \n",
        "\n",
        "env_name = 'CartPole-v0'\n",
        "env = suite_gym.load(env_name)\n",
        "\n",
        "train_py_env = suite_gym.load(env_name)\n",
        "eval_py_env = suite_gym.load(env_name)\n",
        "\n",
        "train_env = tf_py_environment.TFPyEnvironment(train_py_env)\n",
        "eval_env = tf_py_environment.TFPyEnvironment(eval_py_env)\n",
        "\n",
        "env.reset()\n",
        "PIL.Image.fromarray(env.render())"
      ],
      "metadata": {
        "id": "hin8hcpMITm5",
        "colab": {
          "base_uri": "https://localhost:8080/",
          "height": 417
        },
        "outputId": "1f3561fa-1905-4bf0-b55e-87c8b6bc1d7c"
      },
      "execution_count": null,
      "outputs": [
        {
          "output_type": "execute_result",
          "data": {
            "text/plain": [
              "<PIL.Image.Image image mode=RGB size=600x400 at 0x7FACE1F5BA30>"
            ],
            "image/png": "[encoded data removed]"
          },
          "metadata": {},
          "execution_count": 3
        }
      ]
    },
    {
      "cell_type": "markdown",
      "source": [
        "##Step 3: Get information from the evironment\n",
        "* Run the following code block to view the kinds of information our agent receives from the environment at each time point.  The goal is to move the cart right and left so the pole remains upright.  \n",
        "* There are two time steps shown here.  We see the pole at one time step, move the cart with the `action=` step, and then view the state of the cart at the next time step.\n",
        "* `observation` gives 4 measures of the angle and velocity of the pole and the cart.\n",
        "* `reward` gives the value of the reward given to the agent at that time point.\n",
        "* The cart can take two possible actions: `0` = move left and `1` = move right.\n",
        "* If the angle of the pole becomes too great (i.e., the pole is going to fall over) the agent *loses* and the environment is reset."
      ],
      "metadata": {
        "id": "5U4U1ZTPVN11"
      }
    },
    {
      "cell_type": "code",
      "source": [
        "#Step 3\n",
        "\n",
        "time_step = env.reset()\n",
        "print('Time step:')\n",
        "print(time_step)\n",
        "\n",
        "action = np.array(1, dtype=np.int32)\n",
        "\n",
        "next_time_step = env.step(action)\n",
        "print('Next time step:')\n",
        "print(next_time_step)"
      ],
      "metadata": {
        "id": "ppL3vhroI0aV",
        "colab": {
          "base_uri": "https://localhost:8080/"
        },
        "outputId": "34df95eb-723c-411b-c202-14a252549a35"
      },
      "execution_count": null,
      "outputs": [
        {
          "output_type": "stream",
          "name": "stdout",
          "text": [
            "Time step:\n",
            "TimeStep(\n",
            "{'discount': array(1., dtype=float32),\n",
            " 'observation': array([ 0.02830063,  0.01099067,  0.03210641, -0.04869228], dtype=float32),\n",
            " 'reward': array(0., dtype=float32),\n",
            " 'step_type': array(0, dtype=int32)})\n",
            "Next time step:\n",
            "TimeStep(\n",
            "{'discount': array(1., dtype=float32),\n",
            " 'observation': array([ 0.02852044,  0.20563787,  0.03113257, -0.33107495], dtype=float32),\n",
            " 'reward': array(1., dtype=float32),\n",
            " 'step_type': array(1, dtype=int32)})\n"
          ]
        }
      ]
    },
    {
      "cell_type": "markdown",
      "source": [
        "##Step 4: Set up the agent\n",
        "* This is where the neural network part of reinforcement learning comes in.  The agent will learn how to move the cart in response to the angle and velocity of the pole, so it stays upright.\n",
        "* Run the following code block to create the agent."
      ],
      "metadata": {
        "id": "cEw9Lb7BXeAj"
      }
    },
    {
      "cell_type": "code",
      "source": [
        "#Step 4\n",
        "\n",
        "fc_layer_params = (100, 50)\n",
        "action_tensor_spec = tensor_spec.from_spec(env.action_spec())\n",
        "num_actions = action_tensor_spec.maximum - action_tensor_spec.minimum + 1\n",
        "\n",
        "def dense_layer(num_units):\n",
        "  return tf.keras.layers.Dense(\n",
        "      num_units,\n",
        "      activation=tf.keras.activations.relu,\n",
        "      kernel_initializer=tf.keras.initializers.VarianceScaling(\n",
        "          scale=2.0, mode='fan_in', distribution='truncated_normal'))\n",
        "\n",
        "dense_layers = [dense_layer(num_units) for num_units in fc_layer_params]\n",
        "q_values_layer = tf.keras.layers.Dense(\n",
        "    num_actions,\n",
        "    activation=None,\n",
        "    kernel_initializer=tf.keras.initializers.RandomUniform(\n",
        "        minval=-0.03, maxval=0.03),\n",
        "    bias_initializer=tf.keras.initializers.Constant(-0.2))\n",
        "q_net = sequential.Sequential(dense_layers + [q_values_layer])\n",
        "\n",
        "optimizer = tf.keras.optimizers.Adam(learning_rate=learning_rate)\n",
        "\n",
        "train_step_counter = tf.Variable(0)\n",
        "\n",
        "agent = dqn_agent.DqnAgent(\n",
        "    train_env.time_step_spec(),\n",
        "    train_env.action_spec(),\n",
        "    q_network=q_net,\n",
        "    optimizer=optimizer,\n",
        "    td_errors_loss_fn=common.element_wise_squared_loss,\n",
        "    train_step_counter=train_step_counter)\n",
        "\n",
        "agent.initialize()"
      ],
      "metadata": {
        "id": "s_arkeIiJ_9R"
      },
      "execution_count": null,
      "outputs": []
    },
    {
      "cell_type": "markdown",
      "source": [
        "##Step 5: Set up a policy\n",
        "* Run the following code block to define the policy, which is the set of rules for how the agent interacts with the environment (for example, the cart can move right and left, but it can't take off and fly around).\n",
        "* The goal is to train the underlying model until the policy produces the desired outcome—keeping the pole balanced on top of the cart.\n"
      ],
      "metadata": {
        "id": "5L46Is9eZKZJ"
      }
    },
    {
      "cell_type": "code",
      "source": [
        "#Step 5\n",
        "\n",
        "eval_policy = agent.policy\n",
        "collect_policy = agent.collect_policy\n",
        "\n",
        "random_policy = random_tf_policy.RandomTFPolicy(train_env.time_step_spec(),\n",
        "                                                train_env.action_spec())\n",
        "\n",
        "example_environment = tf_py_environment.TFPyEnvironment(\n",
        "    suite_gym.load('CartPole-v0'))\n",
        "\n",
        "time_step = example_environment.reset()\n",
        "\n",
        "random_policy.action(time_step)"
      ],
      "metadata": {
        "id": "3TGCHZr0KJWp",
        "colab": {
          "base_uri": "https://localhost:8080/"
        },
        "outputId": "c8ddd447-4118-4069-9622-9ae3fa6d1927"
      },
      "execution_count": null,
      "outputs": [
        {
          "output_type": "execute_result",
          "data": {
            "text/plain": [
              "PolicyStep(action=<tf.Tensor: shape=(1,), dtype=int64, numpy=array([1])>, state=(), info=())"
            ]
          },
          "metadata": {},
          "execution_count": 6
        }
      ]
    },
    {
      "cell_type": "markdown",
      "source": [
        "##Step 6: Define performance metrics\n",
        "* The agent needs to know how well it is operating in the environment.  At every time step, the agent is given a reward.  The agent's goal is to maximize the reward it gets every time it interacts with the environment.  \n",
        "* If the pole falls over very quickly, the agent will not get much of a reward.  \n",
        "* Run the following code block to build a function that calculates the average return for a policy.  \n",
        "* The output is the average return for an agent that is acting completely at random.  We can use this as a baseline to see how training improves our agent's ability to balance the pole.\n"
      ],
      "metadata": {
        "id": "SvYNyu90ayPd"
      }
    },
    {
      "cell_type": "code",
      "source": [
        "#Step 6\n",
        "\n",
        "def compute_avg_return(environment, policy, num_episodes=10):\n",
        "\n",
        "  total_return = 0.0\n",
        "  for _ in range(num_episodes):\n",
        "\n",
        "    time_step = environment.reset()\n",
        "    episode_return = 0.0\n",
        "\n",
        "    while not time_step.is_last():\n",
        "      action_step = policy.action(time_step)\n",
        "      time_step = environment.step(action_step.action)\n",
        "      episode_return += time_step.reward\n",
        "    total_return += episode_return\n",
        "\n",
        "  avg_return = total_return / num_episodes\n",
        "  return avg_return.numpy()[0]\n",
        "\n",
        "compute_avg_return(eval_env, random_policy, num_eval_episodes)"
      ],
      "metadata": {
        "id": "8KCbnm3HKR-_",
        "colab": {
          "base_uri": "https://localhost:8080/"
        },
        "outputId": "4662d00d-b2b9-473c-a03a-3197363f8d56"
      },
      "execution_count": null,
      "outputs": [
        {
          "output_type": "execute_result",
          "data": {
            "text/plain": [
              "20.8"
            ]
          },
          "metadata": {},
          "execution_count": 7
        }
      ]
    },
    {
      "cell_type": "markdown",
      "source": [
        "##Step 7: Collect data\n",
        "Run the following code block to collect data from the environment and save it in a replay buffer that can be used to train the agent."
      ],
      "metadata": {
        "id": "XFPqYHAVqDC9"
      }
    },
    {
      "cell_type": "code",
      "source": [
        "#Step 7\n",
        "\n",
        "table_name = 'uniform_table'\n",
        "replay_buffer_signature = tensor_spec.from_spec(\n",
        "      agent.collect_data_spec)\n",
        "replay_buffer_signature = tensor_spec.add_outer_dim(\n",
        "    replay_buffer_signature)\n",
        "\n",
        "table = reverb.Table(\n",
        "    table_name,\n",
        "    max_size=replay_buffer_max_length,\n",
        "    sampler=reverb.selectors.Uniform(),\n",
        "    remover=reverb.selectors.Fifo(),\n",
        "    rate_limiter=reverb.rate_limiters.MinSize(1),\n",
        "    signature=replay_buffer_signature)\n",
        "\n",
        "reverb_server = reverb.Server([table])\n",
        "\n",
        "replay_buffer = reverb_replay_buffer.ReverbReplayBuffer(\n",
        "    agent.collect_data_spec,\n",
        "    table_name=table_name,\n",
        "    sequence_length=2,\n",
        "    local_server=reverb_server)\n",
        "\n",
        "rb_observer = reverb_utils.ReverbAddTrajectoryObserver(\n",
        "  replay_buffer.py_client,\n",
        "  table_name,\n",
        "  sequence_length=2)\n",
        "\n",
        "py_driver.PyDriver(\n",
        "    env,\n",
        "    py_tf_eager_policy.PyTFEagerPolicy(\n",
        "      random_policy, use_tf_function=True),\n",
        "    [rb_observer],\n",
        "    max_steps=initial_collect_steps).run(train_py_env.reset())\n",
        "\n",
        "dataset = replay_buffer.as_dataset(\n",
        "    num_parallel_calls=3,\n",
        "    sample_batch_size=batch_size,\n",
        "    num_steps=2).prefetch(3)\n",
        "\n",
        "iterator = iter(dataset)\n",
        "print(iterator)"
      ],
      "metadata": {
        "id": "7hpGXDOkwWk-",
        "colab": {
          "base_uri": "https://localhost:8080/"
        },
        "outputId": "150142ec-3e77-4244-d763-3c9c25e34f09"
      },
      "execution_count": null,
      "outputs": [
        {
          "output_type": "stream",
          "name": "stderr",
          "text": [
            "WARNING:tensorflow:From /usr/local/lib/python3.9/dist-packages/tensorflow/python/autograph/pyct/static_analysis/liveness.py:83: Analyzer.lamba_check (from tensorflow.python.autograph.pyct.static_analysis.liveness) is deprecated and will be removed after 2023-09-23.\n",
            "Instructions for updating:\n",
            "Lambda fuctions will be no more assumed to be used in the statement where they are used, or at least in the same block. https://github.com/tensorflow/tensorflow/issues/56089\n"
          ]
        },
        {
          "output_type": "stream",
          "name": "stdout",
          "text": [
            "<tensorflow.python.data.ops.iterator_ops.OwnedIterator object at 0x7facc73de310>\n"
          ]
        }
      ]
    },
    {
      "cell_type": "markdown",
      "source": [
        "##Step 8: Train the agent\n",
        "* Run the following code block to train the agent based on data collected from the environment.\n",
        "* **Note**: This step will take about 5 minutes to run."
      ],
      "metadata": {
        "id": "x6ETJREm_dZx"
      }
    },
    {
      "cell_type": "code",
      "source": [
        "#Step 8\n",
        "\n",
        "agent.train = common.function(agent.train)\n",
        "\n",
        "# Reset the train step.\n",
        "agent.train_step_counter.assign(0)\n",
        "\n",
        "# Evaluate the agent's policy once before training.\n",
        "avg_return = compute_avg_return(eval_env, agent.policy, num_eval_episodes)\n",
        "returns = [avg_return]\n",
        "\n",
        "# Reset the environment.\n",
        "time_step = train_py_env.reset()\n",
        "\n",
        "# Create a driver to collect experience.\n",
        "collect_driver = py_driver.PyDriver(\n",
        "    env,\n",
        "    py_tf_eager_policy.PyTFEagerPolicy(\n",
        "      agent.collect_policy, use_tf_function=True),\n",
        "    [rb_observer],\n",
        "    max_steps=collect_steps_per_iteration)\n",
        "\n",
        "for _ in range(num_iterations):\n",
        "\n",
        "  # Collect a few steps and save to the replay buffer.\n",
        "  time_step, _ = collect_driver.run(time_step)\n",
        "\n",
        "  # Sample a batch of data from the buffer and update the agent's network.\n",
        "  experience, unused_info = next(iterator)\n",
        "  train_loss = agent.train(experience).loss\n",
        "\n",
        "  step = agent.train_step_counter.numpy()\n",
        "\n",
        "  if step % log_interval == 0:\n",
        "    print('step = {0}: loss = {1}'.format(step, train_loss))\n",
        "\n",
        "  if step % eval_interval == 0:\n",
        "    avg_return = compute_avg_return(eval_env, agent.policy, num_eval_episodes)\n",
        "    print('step = {0}: Average Return = {1}'.format(step, avg_return))\n",
        "    returns.append(avg_return)"
      ],
      "metadata": {
        "id": "eIVIHbiNwZso",
        "colab": {
          "base_uri": "https://localhost:8080/"
        },
        "outputId": "0f6c1a3d-c53e-4cc3-8e5d-c6bec84afc4f"
      },
      "execution_count": null,
      "outputs": [
        {
          "output_type": "stream",
          "name": "stderr",
          "text": [
            "WARNING:tensorflow:From /usr/local/lib/python3.9/dist-packages/tensorflow/python/util/dispatch.py:1176: calling foldr_v2 (from tensorflow.python.ops.functional_ops) with back_prop=False is deprecated and will be removed in a future version.\n",
            "Instructions for updating:\n",
            "back_prop=False is deprecated. Consider using tf.stop_gradient instead.\n",
            "Instead of:\n",
            "results = tf.foldr(fn, elems, back_prop=False)\n",
            "Use:\n",
            "results = tf.nest.map_structure(tf.stop_gradient, tf.foldr(fn, elems))\n"
          ]
        },
        {
          "output_type": "stream",
          "name": "stdout",
          "text": [
            "step = 200: loss = 25.294822692871094\n",
            "step = 400: loss = 2.503615379333496\n",
            "step = 600: loss = 2.6476359367370605\n",
            "step = 800: loss = 9.786568641662598\n",
            "step = 1000: loss = 12.270898818969727\n",
            "step = 1000: Average Return = 64.19999694824219\n",
            "step = 1200: loss = 68.95333099365234\n",
            "step = 1400: loss = 285.97564697265625\n",
            "step = 1600: loss = 50.49403381347656\n",
            "step = 1800: loss = 90.6613540649414\n",
            "step = 2000: loss = 361.3363037109375\n",
            "step = 2000: Average Return = 126.5999984741211\n",
            "step = 2200: loss = 699.61669921875\n",
            "step = 2400: loss = 340.458984375\n",
            "step = 2600: loss = 3089.79736328125\n",
            "step = 2800: loss = 5473.8427734375\n",
            "step = 3000: loss = 174.86770629882812\n",
            "step = 3000: Average Return = 90.5\n",
            "step = 3200: loss = 240.0093994140625\n",
            "step = 3400: loss = 191.07244873046875\n",
            "step = 3600: loss = 149.5358428955078\n",
            "step = 3800: loss = 108.89762115478516\n",
            "step = 4000: loss = 58.95961380004883\n",
            "step = 4000: Average Return = 169.1999969482422\n",
            "step = 4200: loss = 58.787925720214844\n",
            "step = 4400: loss = 73.07546997070312\n",
            "step = 4600: loss = 91.50148010253906\n",
            "step = 4800: loss = 57.902626037597656\n",
            "step = 5000: loss = 65.18061828613281\n",
            "step = 5000: Average Return = 200.0\n",
            "step = 5200: loss = 44.12057113647461\n",
            "step = 5400: loss = 37.78089141845703\n",
            "step = 5600: loss = 64.48786926269531\n",
            "step = 5800: loss = 45.37446212768555\n",
            "step = 6000: loss = 133.97836303710938\n",
            "step = 6000: Average Return = 200.0\n",
            "step = 6200: loss = 78.876953125\n",
            "step = 6400: loss = 101.09307861328125\n",
            "step = 6600: loss = 40.696632385253906\n",
            "step = 6800: loss = 5687.4306640625\n",
            "step = 7000: loss = 120.13046264648438\n",
            "step = 7000: Average Return = 200.0\n",
            "step = 7200: loss = 188.41845703125\n",
            "step = 7400: loss = 292.1617736816406\n",
            "step = 7600: loss = 187.10733032226562\n",
            "step = 7800: loss = 279.24432373046875\n",
            "step = 8000: loss = 153.01223754882812\n",
            "step = 8000: Average Return = 200.0\n",
            "step = 8200: loss = 264.23004150390625\n",
            "step = 8400: loss = 356.6354064941406\n",
            "step = 8600: loss = 216.44662475585938\n",
            "step = 8800: loss = 533.5782470703125\n",
            "step = 9000: loss = 171.70333862304688\n",
            "step = 9000: Average Return = 200.0\n",
            "step = 9200: loss = 412.12078857421875\n",
            "step = 9400: loss = 587.671875\n",
            "step = 9600: loss = 835.3677978515625\n",
            "step = 9800: loss = 671.8701171875\n",
            "step = 10000: loss = 2035.99169921875\n",
            "step = 10000: Average Return = 200.0\n",
            "step = 10200: loss = 58516.03125\n",
            "step = 10400: loss = 605.08154296875\n",
            "step = 10600: loss = 794.4878540039062\n",
            "step = 10800: loss = 868.1888427734375\n",
            "step = 11000: loss = 1066.5098876953125\n",
            "step = 11000: Average Return = 200.0\n",
            "step = 11200: loss = 653.8291625976562\n",
            "step = 11400: loss = 11141.3994140625\n",
            "step = 11600: loss = 654.6998291015625\n",
            "step = 11800: loss = 867.7884521484375\n",
            "step = 12000: loss = 657.7294921875\n",
            "step = 12000: Average Return = 200.0\n",
            "step = 12200: loss = 205.30850219726562\n",
            "step = 12400: loss = 664.7847900390625\n",
            "step = 12600: loss = 521.1959228515625\n",
            "step = 12800: loss = 340.4752197265625\n",
            "step = 13000: loss = 702.3489990234375\n",
            "step = 13000: Average Return = 200.0\n",
            "step = 13200: loss = 1126.67724609375\n",
            "step = 13400: loss = 619.3707275390625\n",
            "step = 13600: loss = 640.0731811523438\n",
            "step = 13800: loss = 367.4773864746094\n",
            "step = 14000: loss = 431.9608154296875\n",
            "step = 14000: Average Return = 200.0\n",
            "step = 14200: loss = 781.1033935546875\n",
            "step = 14400: loss = 782.1578979492188\n",
            "step = 14600: loss = 644.9566040039062\n",
            "step = 14800: loss = 898.6160278320312\n",
            "step = 15000: loss = 529.831298828125\n",
            "step = 15000: Average Return = 200.0\n",
            "step = 15200: loss = 550.4921875\n",
            "step = 15400: loss = 929.1700439453125\n",
            "step = 15600: loss = 6535.46875\n",
            "step = 15800: loss = 328.7911071777344\n",
            "step = 16000: loss = 80228.328125\n",
            "step = 16000: Average Return = 200.0\n",
            "step = 16200: loss = 630.8656616210938\n",
            "step = 16400: loss = 763.5777587890625\n",
            "step = 16600: loss = 71762.1796875\n",
            "step = 16800: loss = 449.21600341796875\n",
            "step = 17000: loss = 854.31201171875\n",
            "step = 17000: Average Return = 200.0\n",
            "step = 17200: loss = 660.050048828125\n",
            "step = 17400: loss = 69469.6875\n",
            "step = 17600: loss = 351.47381591796875\n",
            "step = 17800: loss = 291.5503845214844\n",
            "step = 18000: loss = 524.9360961914062\n",
            "step = 18000: Average Return = 200.0\n",
            "step = 18200: loss = 292.8011779785156\n",
            "step = 18400: loss = 344.05487060546875\n",
            "step = 18600: loss = 28355.810546875\n",
            "step = 18800: loss = 617.6049194335938\n",
            "step = 19000: loss = 586.734130859375\n",
            "step = 19000: Average Return = 200.0\n",
            "step = 19200: loss = 27713.349609375\n",
            "step = 19400: loss = 244.01373291015625\n",
            "step = 19600: loss = 419.5674743652344\n",
            "step = 19800: loss = 211.0003662109375\n",
            "step = 20000: loss = 24199.69921875\n",
            "step = 20000: Average Return = 200.0\n"
          ]
        }
      ]
    },
    {
      "cell_type": "markdown",
      "source": [
        "##Step 9: Watch the system in action\n",
        "Run the following code block to view a demo video of the cart learning how to balance the pole."
      ],
      "metadata": {
        "id": "L_zWz_YqBT4z"
      }
    },
    {
      "cell_type": "code",
      "source": [
        "#Step 9\n",
        "\n",
        "def embed_mp4(filename):\n",
        "  \"\"\"Embeds an mp4 file in the notebook.\"\"\"\n",
        "  video = open(filename,'rb').read()\n",
        "  b64 = base64.b64encode(video)\n",
        "  tag = '''\n",
        "  <video width=\"640\" height=\"480\" controls>\n",
        "    <source src=\"data:video/mp4;base64,{0}\" type=\"video/mp4\">\n",
        "  Your browser does not support the video tag.\n",
        "  </video>'''.format(b64.decode())\n",
        "\n",
        "  return IPython.display.HTML(tag)\n",
        "\n",
        "def create_policy_eval_video(policy, filename, num_episodes=5, fps=30):\n",
        "  filename = filename + \".mp4\"\n",
        "  with imageio.get_writer(filename, fps=fps) as video:\n",
        "    for _ in range(num_episodes):\n",
        "      time_step = eval_env.reset()\n",
        "      video.append_data(eval_py_env.render())\n",
        "      while not time_step.is_last():\n",
        "        action_step = policy.action(time_step)\n",
        "        time_step = eval_env.step(action_step.action)\n",
        "        video.append_data(eval_py_env.render())\n",
        "  return embed_mp4(filename)\n",
        "\n",
        "create_policy_eval_video(agent.policy, \"trained-agent\")"
      ],
      "metadata": {
        "id": "cVR2rT_ed0vy",
        "colab": {
          "base_uri": "https://localhost:8080/",
          "height": 538
        },
        "outputId": "e6a2aa56-0eb8-4431-98d9-b896fa169e4a"
      },
      "execution_count": null,
      "outputs": [
        {
          "output_type": "stream",
          "name": "stderr",
          "text": [
            "WARNING:root:IMAGEIO FFMPEG_WRITER WARNING: input image is not divisible by macro_block_size=16, resizing from (400, 600) to (400, 608) to ensure video compatibility with most codecs and players. To prevent resizing, make your input image divisible by the macro_block_size or set the macro_block_size to None (risking incompatibility). You may also see a FFMPEG warning concerning speedloss due to data not being aligned.\n"
          ]
        },
        {
          "output_type": "execute_result",
          "data": {
            "text/plain": [
              "<IPython.core.display.HTML object>"
            ],
            "text/html": [
              "\n",
              "  <video width=\"640\" height=\"480\" controls>\n",
              "    <source src=\"data:video/mp4;base64,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\" type=\"video/mp4\">\n",
              "  Your browser does not support the video tag.\n",
              "  </video>"
            ]
          },
          "metadata": {},
          "execution_count": 10
        }
      ]
    },
    {
      "cell_type": "markdown",
      "source": [
        "##Step 10: Compare to an untrained system\n",
        "For comparison, run the following code block to show the cart moving at random."
      ],
      "metadata": {
        "id": "-OTSop4Tm27l"
      }
    },
    {
      "cell_type": "code",
      "source": [
        "#Step 10:\n",
        "\n",
        "create_policy_eval_video(random_policy, \"random-agent\")"
      ],
      "metadata": {
        "id": "WaaUBiBmmVhr",
        "colab": {
          "base_uri": "https://localhost:8080/",
          "height": 538
        },
        "outputId": "23beff6a-865b-4a2f-c97c-018f9fc43c20"
      },
      "execution_count": null,
      "outputs": [
        {
          "output_type": "stream",
          "name": "stderr",
          "text": [
            "WARNING:root:IMAGEIO FFMPEG_WRITER WARNING: input image is not divisible by macro_block_size=16, resizing from (400, 600) to (400, 608) to ensure video compatibility with most codecs and players. To prevent resizing, make your input image divisible by the macro_block_size or set the macro_block_size to None (risking incompatibility). You may also see a FFMPEG warning concerning speedloss due to data not being aligned.\n"
          ]
        },
        {
          "output_type": "execute_result",
          "data": {
            "text/plain": [
              "<IPython.core.display.HTML object>"
            ],
            "text/html": [
              "\n",
              "  <video width=\"640\" height=\"480\" controls>\n",
              "    <source src=\"data:video/mp4;base64,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\" type=\"video/mp4\">\n",
              "  Your browser does not support the video tag.\n",
              "  </video>"
            ]
          },
          "metadata": {},
          "execution_count": 11
        }
      ]
    }
  ]
}