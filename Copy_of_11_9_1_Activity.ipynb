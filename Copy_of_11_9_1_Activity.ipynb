{
  "nbformat": 4,
  "nbformat_minor": 0,
  "metadata": {
    "anaconda-cloud": {},
    "kernelspec": {
      "display_name": "Python 3",
      "language": "python",
      "name": "python3"
    },
    "language_info": {
      "codemirror_mode": {
        "name": "ipython",
        "version": 3
      },
      "file_extension": ".py",
      "mimetype": "text/x-python",
      "name": "python",
      "nbconvert_exporter": "python",
      "pygments_lexer": "ipython3",
      "version": "3.6.4"
    },
    "toc": {
      "nav_menu": {},
      "number_sections": false,
      "sideBar": true,
      "skip_h1_title": false,
      "title_cell": "Table of Contents",
      "title_sidebar": "Contents",
      "toc_cell": false,
      "toc_position": {},
      "toc_section_display": true,
      "toc_window_display": false
    },
    "varInspector": {
      "cols": {
        "lenName": 16,
        "lenType": 16,
        "lenVar": 40
      },
      "kernels_config": {
        "python": {
          "delete_cmd_postfix": "",
          "delete_cmd_prefix": "del ",
          "library": "var_list.py",
          "varRefreshCmd": "print(var_dic_list())"
        },
        "r": {
          "delete_cmd_postfix": ") ",
          "delete_cmd_prefix": "rm(",
          "library": "var_list.r",
          "varRefreshCmd": "cat(var_dic_list()) "
        }
      },
      "types_to_exclude": [
        "module",
        "function",
        "builtin_function_or_method",
        "instance",
        "_Feature"
      ],
      "window_display": false
    },
    "colab": {
      "provenance": [],
      "include_colab_link": true
    }
  },
  "cells": [
    {
      "cell_type": "markdown",
      "metadata": {
        "id": "view-in-github",
        "colab_type": "text"
      },
      "source": [
        "<a href=\"https://colab.research.google.com/github/val93s/Machine_learning/blob/main/Copy_of_11_9_1_Activity.ipynb\" target=\"_parent\"><img src=\"https://colab.research.google.com/assets/colab-badge.svg\" alt=\"Open In Colab\"/></a>"
      ]
    },
    {
      "cell_type": "markdown",
      "metadata": {
        "id": "g03AFAhWQAJJ"
      },
      "source": [
        "#Lesson 11.9.1 Activity\n",
        "\n",
        "Customer Segmentation\n",
        "\n",
        "You work for a large retailer that has collected customer data on sex, marital status, age, income, education, and occupation through a customer loyalty program.\n",
        "\n",
        "The marketing department tasks you with defining groups of “similar” customers that it can use as the basis for new marketing campaigns.\n",
        "\n",
        "\n",
        "In this module, we'll begin by clustering our customer data using K-Means.  We'll evaluate how many clusters of customers appear to be present in our dataset. "
      ]
    },
    {
      "cell_type": "markdown",
      "metadata": {
        "id": "YVDbdDBDQVoS"
      },
      "source": [
        "#Step 1: Download and save the `segmentation data.csv` dataset from the class materials  \n",
        "\n",
        "* Make a note of where you saved the file on your computer."
      ]
    },
    {
      "cell_type": "markdown",
      "metadata": {
        "id": "63UbfVKeQfsl"
      },
      "source": [
        "#Step 2: Upload the `segmentation data.csv` dataset by running the following code block \n",
        "\n",
        "* When prompted, navigate to and select the `segmentation data.csv` dataset where you saved it on your computer."
      ]
    },
    {
      "cell_type": "code",
      "metadata": {
        "id": "bxSC_MgQQUis"
      },
      "source": [
        "#Step 2\n",
        "\n",
        "from google.colab import files\n",
        "segmentation = files.upload()"
      ],
      "execution_count": null,
      "outputs": []
    },
    {
      "cell_type": "markdown",
      "metadata": {
        "id": "6mQ3_VhcR1WN"
      },
      "source": [
        "#Step 3: Import necessary packages\n",
        "\n",
        "```\n",
        "import pandas as pd\n",
        "import numpy as np\n",
        "import matplotlib.pyplot as plt\n",
        "from sklearn.preprocessing import StandardScaler\n",
        "import seaborn as sns\n",
        "import pandas as pd\n",
        "import numpy as np\n",
        "from sklearn import cluster, metrics\n",
        "from sklearn import datasets\n",
        "```"
      ]
    },
    {
      "cell_type": "code",
      "metadata": {
        "id": "TCCjVheOTkv9"
      },
      "source": [
        "#Step 3\n",
        "import pandas as pd\n",
        "import numpy as np\n",
        "import matplotlib.pyplot as plt\n",
        "from sklearn.preprocessing import StandardScaler\n",
        "import seaborn as sns\n",
        "import pandas as pd\n",
        "import numpy as np\n",
        "from sklearn import cluster, metrics\n",
        "from sklearn import datasets\n"
      ],
      "execution_count": null,
      "outputs": []
    },
    {
      "cell_type": "markdown",
      "metadata": {
        "id": "N3aT3Y28TLRX"
      },
      "source": [
        "# Step 4: Create a Pandas DataFrame from the CSV file\n",
        "* Name the DataFrame `X`.\n",
        "* Print the first five observations of `X`.  Note the kinds of data it contains."
      ]
    },
    {
      "cell_type": "code",
      "metadata": {
        "id": "Dq0u4uJIQofY",
        "colab": {
          "base_uri": "https://localhost:8080/",
          "height": 206
        },
        "outputId": "4c1613bd-4998-459e-b59b-ad84a2569802"
      },
      "source": [
        "#Step 4\n",
        "X = pd.read_csv('segmentation data.csv')\n",
        "X.head()\n",
        "\n",
        "\n"
      ],
      "execution_count": null,
      "outputs": [
        {
          "output_type": "execute_result",
          "data": {
            "text/plain": [
              "          ID  Sex  Marital status  Age  Education  Income  Occupation  \\\n",
              "0  100000001    0               0   67          2  124670           1   \n",
              "1  100000002    1               1   22          1  150773           1   \n",
              "2  100000003    0               0   49          1   89210           0   \n",
              "3  100000004    0               0   45          1  171565           1   \n",
              "4  100000005    0               0   53          1  149031           1   \n",
              "\n",
              "   Settlement size  \n",
              "0                2  \n",
              "1                2  \n",
              "2                0  \n",
              "3                1  \n",
              "4                1  "
            ],
            "text/html": [
              "\n",
              "  <div id=\"df-34f9090f-14d6-44a7-9bb9-5d54299433c7\">\n",
              "    <div class=\"colab-df-container\">\n",
              "      <div>\n",
              "<style scoped>\n",
              "    .dataframe tbody tr th:only-of-type {\n",
              "        vertical-align: middle;\n",
              "    }\n",
              "\n",
              "    .dataframe tbody tr th {\n",
              "        vertical-align: top;\n",
              "    }\n",
              "\n",
              "    .dataframe thead th {\n",
              "        text-align: right;\n",
              "    }\n",
              "</style>\n",
              "<table border=\"1\" class=\"dataframe\">\n",
              "  <thead>\n",
              "    <tr style=\"text-align: right;\">\n",
              "      <th></th>\n",
              "      <th>ID</th>\n",
              "      <th>Sex</th>\n",
              "      <th>Marital status</th>\n",
              "      <th>Age</th>\n",
              "      <th>Education</th>\n",
              "      <th>Income</th>\n",
              "      <th>Occupation</th>\n",
              "      <th>Settlement size</th>\n",
              "    </tr>\n",
              "  </thead>\n",
              "  <tbody>\n",
              "    <tr>\n",
              "      <th>0</th>\n",
              "      <td>100000001</td>\n",
              "      <td>0</td>\n",
              "      <td>0</td>\n",
              "      <td>67</td>\n",
              "      <td>2</td>\n",
              "      <td>124670</td>\n",
              "      <td>1</td>\n",
              "      <td>2</td>\n",
              "    </tr>\n",
              "    <tr>\n",
              "      <th>1</th>\n",
              "      <td>100000002</td>\n",
              "      <td>1</td>\n",
              "      <td>1</td>\n",
              "      <td>22</td>\n",
              "      <td>1</td>\n",
              "      <td>150773</td>\n",
              "      <td>1</td>\n",
              "      <td>2</td>\n",
              "    </tr>\n",
              "    <tr>\n",
              "      <th>2</th>\n",
              "      <td>100000003</td>\n",
              "      <td>0</td>\n",
              "      <td>0</td>\n",
              "      <td>49</td>\n",
              "      <td>1</td>\n",
              "      <td>89210</td>\n",
              "      <td>0</td>\n",
              "      <td>0</td>\n",
              "    </tr>\n",
              "    <tr>\n",
              "      <th>3</th>\n",
              "      <td>100000004</td>\n",
              "      <td>0</td>\n",
              "      <td>0</td>\n",
              "      <td>45</td>\n",
              "      <td>1</td>\n",
              "      <td>171565</td>\n",
              "      <td>1</td>\n",
              "      <td>1</td>\n",
              "    </tr>\n",
              "    <tr>\n",
              "      <th>4</th>\n",
              "      <td>100000005</td>\n",
              "      <td>0</td>\n",
              "      <td>0</td>\n",
              "      <td>53</td>\n",
              "      <td>1</td>\n",
              "      <td>149031</td>\n",
              "      <td>1</td>\n",
              "      <td>1</td>\n",
              "    </tr>\n",
              "  </tbody>\n",
              "</table>\n",
              "</div>\n",
              "      <button class=\"colab-df-convert\" onclick=\"convertToInteractive('df-34f9090f-14d6-44a7-9bb9-5d54299433c7')\"\n",
              "              title=\"Convert this dataframe to an interactive table.\"\n",
              "              style=\"display:none;\">\n",
              "        \n",
              "  <svg xmlns=\"http://www.w3.org/2000/svg\" height=\"24px\"viewBox=\"0 0 24 24\"\n",
              "       width=\"24px\">\n",
              "    <path d=\"M0 0h24v24H0V0z\" fill=\"none\"/>\n",
              "    <path d=\"M18.56 5.44l.94 2.06.94-2.06 2.06-.94-2.06-.94-.94-2.06-.94 2.06-2.06.94zm-11 1L8.5 8.5l.94-2.06 2.06-.94-2.06-.94L8.5 2.5l-.94 2.06-2.06.94zm10 10l.94 2.06.94-2.06 2.06-.94-2.06-.94-.94-2.06-.94 2.06-2.06.94z\"/><path d=\"M17.41 7.96l-1.37-1.37c-.4-.4-.92-.59-1.43-.59-.52 0-1.04.2-1.43.59L10.3 9.45l-7.72 7.72c-.78.78-.78 2.05 0 2.83L4 21.41c.39.39.9.59 1.41.59.51 0 1.02-.2 1.41-.59l7.78-7.78 2.81-2.81c.8-.78.8-2.07 0-2.86zM5.41 20L4 18.59l7.72-7.72 1.47 1.35L5.41 20z\"/>\n",
              "  </svg>\n",
              "      </button>\n",
              "      \n",
              "  <style>\n",
              "    .colab-df-container {\n",
              "      display:flex;\n",
              "      flex-wrap:wrap;\n",
              "      gap: 12px;\n",
              "    }\n",
              "\n",
              "    .colab-df-convert {\n",
              "      background-color: #E8F0FE;\n",
              "      border: none;\n",
              "      border-radius: 50%;\n",
              "      cursor: pointer;\n",
              "      display: none;\n",
              "      fill: #1967D2;\n",
              "      height: 32px;\n",
              "      padding: 0 0 0 0;\n",
              "      width: 32px;\n",
              "    }\n",
              "\n",
              "    .colab-df-convert:hover {\n",
              "      background-color: #E2EBFA;\n",
              "      box-shadow: 0px 1px 2px rgba(60, 64, 67, 0.3), 0px 1px 3px 1px rgba(60, 64, 67, 0.15);\n",
              "      fill: #174EA6;\n",
              "    }\n",
              "\n",
              "    [theme=dark] .colab-df-convert {\n",
              "      background-color: #3B4455;\n",
              "      fill: #D2E3FC;\n",
              "    }\n",
              "\n",
              "    [theme=dark] .colab-df-convert:hover {\n",
              "      background-color: #434B5C;\n",
              "      box-shadow: 0px 1px 3px 1px rgba(0, 0, 0, 0.15);\n",
              "      filter: drop-shadow(0px 1px 2px rgba(0, 0, 0, 0.3));\n",
              "      fill: #FFFFFF;\n",
              "    }\n",
              "  </style>\n",
              "\n",
              "      <script>\n",
              "        const buttonEl =\n",
              "          document.querySelector('#df-34f9090f-14d6-44a7-9bb9-5d54299433c7 button.colab-df-convert');\n",
              "        buttonEl.style.display =\n",
              "          google.colab.kernel.accessAllowed ? 'block' : 'none';\n",
              "\n",
              "        async function convertToInteractive(key) {\n",
              "          const element = document.querySelector('#df-34f9090f-14d6-44a7-9bb9-5d54299433c7');\n",
              "          const dataTable =\n",
              "            await google.colab.kernel.invokeFunction('convertToInteractive',\n",
              "                                                     [key], {});\n",
              "          if (!dataTable) return;\n",
              "\n",
              "          const docLinkHtml = 'Like what you see? Visit the ' +\n",
              "            '<a target=\"_blank\" href=https://colab.research.google.com/notebooks/data_table.ipynb>data table notebook</a>'\n",
              "            + ' to learn more about interactive tables.';\n",
              "          element.innerHTML = '';\n",
              "          dataTable['output_type'] = 'display_data';\n",
              "          await google.colab.output.renderOutput(dataTable, element);\n",
              "          const docLink = document.createElement('div');\n",
              "          docLink.innerHTML = docLinkHtml;\n",
              "          element.appendChild(docLink);\n",
              "        }\n",
              "      </script>\n",
              "    </div>\n",
              "  </div>\n",
              "  "
            ]
          },
          "metadata": {},
          "execution_count": 5
        }
      ]
    },
    {
      "cell_type": "markdown",
      "source": [
        "#Step 5: Select Important Features\n",
        "* Select the important features to be used in the clustering algorithm.  Hint: There is one feature that is probably *not* helpful and should be dropped."
      ],
      "metadata": {
        "id": "EL_lRdYagDP7"
      }
    },
    {
      "cell_type": "code",
      "source": [
        "#Step 5\n",
        "X.drop(columns=\"ID\", axis=1, inplace=True)\n",
        "X.head()"
      ],
      "metadata": {
        "id": "E8tjhVNTgaNX",
        "colab": {
          "base_uri": "https://localhost:8080/",
          "height": 206
        },
        "outputId": "a47bd61c-6a40-45b9-ba95-ea435d7440fa"
      },
      "execution_count": null,
      "outputs": [
        {
          "output_type": "execute_result",
          "data": {
            "text/plain": [
              "   Sex  Marital status  Age  Education  Income  Occupation  Settlement size\n",
              "0    0               0   67          2  124670           1                2\n",
              "1    1               1   22          1  150773           1                2\n",
              "2    0               0   49          1   89210           0                0\n",
              "3    0               0   45          1  171565           1                1\n",
              "4    0               0   53          1  149031           1                1"
            ],
            "text/html": [
              "\n",
              "  <div id=\"df-1022555b-30ac-4255-a6bf-c6dc62bd0712\">\n",
              "    <div class=\"colab-df-container\">\n",
              "      <div>\n",
              "<style scoped>\n",
              "    .dataframe tbody tr th:only-of-type {\n",
              "        vertical-align: middle;\n",
              "    }\n",
              "\n",
              "    .dataframe tbody tr th {\n",
              "        vertical-align: top;\n",
              "    }\n",
              "\n",
              "    .dataframe thead th {\n",
              "        text-align: right;\n",
              "    }\n",
              "</style>\n",
              "<table border=\"1\" class=\"dataframe\">\n",
              "  <thead>\n",
              "    <tr style=\"text-align: right;\">\n",
              "      <th></th>\n",
              "      <th>Sex</th>\n",
              "      <th>Marital status</th>\n",
              "      <th>Age</th>\n",
              "      <th>Education</th>\n",
              "      <th>Income</th>\n",
              "      <th>Occupation</th>\n",
              "      <th>Settlement size</th>\n",
              "    </tr>\n",
              "  </thead>\n",
              "  <tbody>\n",
              "    <tr>\n",
              "      <th>0</th>\n",
              "      <td>0</td>\n",
              "      <td>0</td>\n",
              "      <td>67</td>\n",
              "      <td>2</td>\n",
              "      <td>124670</td>\n",
              "      <td>1</td>\n",
              "      <td>2</td>\n",
              "    </tr>\n",
              "    <tr>\n",
              "      <th>1</th>\n",
              "      <td>1</td>\n",
              "      <td>1</td>\n",
              "      <td>22</td>\n",
              "      <td>1</td>\n",
              "      <td>150773</td>\n",
              "      <td>1</td>\n",
              "      <td>2</td>\n",
              "    </tr>\n",
              "    <tr>\n",
              "      <th>2</th>\n",
              "      <td>0</td>\n",
              "      <td>0</td>\n",
              "      <td>49</td>\n",
              "      <td>1</td>\n",
              "      <td>89210</td>\n",
              "      <td>0</td>\n",
              "      <td>0</td>\n",
              "    </tr>\n",
              "    <tr>\n",
              "      <th>3</th>\n",
              "      <td>0</td>\n",
              "      <td>0</td>\n",
              "      <td>45</td>\n",
              "      <td>1</td>\n",
              "      <td>171565</td>\n",
              "      <td>1</td>\n",
              "      <td>1</td>\n",
              "    </tr>\n",
              "    <tr>\n",
              "      <th>4</th>\n",
              "      <td>0</td>\n",
              "      <td>0</td>\n",
              "      <td>53</td>\n",
              "      <td>1</td>\n",
              "      <td>149031</td>\n",
              "      <td>1</td>\n",
              "      <td>1</td>\n",
              "    </tr>\n",
              "  </tbody>\n",
              "</table>\n",
              "</div>\n",
              "      <button class=\"colab-df-convert\" onclick=\"convertToInteractive('df-1022555b-30ac-4255-a6bf-c6dc62bd0712')\"\n",
              "              title=\"Convert this dataframe to an interactive table.\"\n",
              "              style=\"display:none;\">\n",
              "        \n",
              "  <svg xmlns=\"http://www.w3.org/2000/svg\" height=\"24px\"viewBox=\"0 0 24 24\"\n",
              "       width=\"24px\">\n",
              "    <path d=\"M0 0h24v24H0V0z\" fill=\"none\"/>\n",
              "    <path d=\"M18.56 5.44l.94 2.06.94-2.06 2.06-.94-2.06-.94-.94-2.06-.94 2.06-2.06.94zm-11 1L8.5 8.5l.94-2.06 2.06-.94-2.06-.94L8.5 2.5l-.94 2.06-2.06.94zm10 10l.94 2.06.94-2.06 2.06-.94-2.06-.94-.94-2.06-.94 2.06-2.06.94z\"/><path d=\"M17.41 7.96l-1.37-1.37c-.4-.4-.92-.59-1.43-.59-.52 0-1.04.2-1.43.59L10.3 9.45l-7.72 7.72c-.78.78-.78 2.05 0 2.83L4 21.41c.39.39.9.59 1.41.59.51 0 1.02-.2 1.41-.59l7.78-7.78 2.81-2.81c.8-.78.8-2.07 0-2.86zM5.41 20L4 18.59l7.72-7.72 1.47 1.35L5.41 20z\"/>\n",
              "  </svg>\n",
              "      </button>\n",
              "      \n",
              "  <style>\n",
              "    .colab-df-container {\n",
              "      display:flex;\n",
              "      flex-wrap:wrap;\n",
              "      gap: 12px;\n",
              "    }\n",
              "\n",
              "    .colab-df-convert {\n",
              "      background-color: #E8F0FE;\n",
              "      border: none;\n",
              "      border-radius: 50%;\n",
              "      cursor: pointer;\n",
              "      display: none;\n",
              "      fill: #1967D2;\n",
              "      height: 32px;\n",
              "      padding: 0 0 0 0;\n",
              "      width: 32px;\n",
              "    }\n",
              "\n",
              "    .colab-df-convert:hover {\n",
              "      background-color: #E2EBFA;\n",
              "      box-shadow: 0px 1px 2px rgba(60, 64, 67, 0.3), 0px 1px 3px 1px rgba(60, 64, 67, 0.15);\n",
              "      fill: #174EA6;\n",
              "    }\n",
              "\n",
              "    [theme=dark] .colab-df-convert {\n",
              "      background-color: #3B4455;\n",
              "      fill: #D2E3FC;\n",
              "    }\n",
              "\n",
              "    [theme=dark] .colab-df-convert:hover {\n",
              "      background-color: #434B5C;\n",
              "      box-shadow: 0px 1px 3px 1px rgba(0, 0, 0, 0.15);\n",
              "      filter: drop-shadow(0px 1px 2px rgba(0, 0, 0, 0.3));\n",
              "      fill: #FFFFFF;\n",
              "    }\n",
              "  </style>\n",
              "\n",
              "      <script>\n",
              "        const buttonEl =\n",
              "          document.querySelector('#df-1022555b-30ac-4255-a6bf-c6dc62bd0712 button.colab-df-convert');\n",
              "        buttonEl.style.display =\n",
              "          google.colab.kernel.accessAllowed ? 'block' : 'none';\n",
              "\n",
              "        async function convertToInteractive(key) {\n",
              "          const element = document.querySelector('#df-1022555b-30ac-4255-a6bf-c6dc62bd0712');\n",
              "          const dataTable =\n",
              "            await google.colab.kernel.invokeFunction('convertToInteractive',\n",
              "                                                     [key], {});\n",
              "          if (!dataTable) return;\n",
              "\n",
              "          const docLinkHtml = 'Like what you see? Visit the ' +\n",
              "            '<a target=\"_blank\" href=https://colab.research.google.com/notebooks/data_table.ipynb>data table notebook</a>'\n",
              "            + ' to learn more about interactive tables.';\n",
              "          element.innerHTML = '';\n",
              "          dataTable['output_type'] = 'display_data';\n",
              "          await google.colab.output.renderOutput(dataTable, element);\n",
              "          const docLink = document.createElement('div');\n",
              "          docLink.innerHTML = docLinkHtml;\n",
              "          element.appendChild(docLink);\n",
              "        }\n",
              "      </script>\n",
              "    </div>\n",
              "  </div>\n",
              "  "
            ]
          },
          "metadata": {},
          "execution_count": 6
        }
      ]
    },
    {
      "cell_type": "markdown",
      "source": [
        "#Step 6: Pre-processing\n",
        "* Just like supervised learning models, unsupervised learning models will work more accurately when quantitative data is scaled and categorical data is encoded.\n",
        "*Which features of our dataset are quantitiative?  Which are categorical?\n"
      ],
      "metadata": {
        "id": "lGaJgeQ8gvfD"
      }
    },
    {
      "cell_type": "markdown",
      "source": [
        "**Step 6 Answer:**\n"
      ],
      "metadata": {
        "id": "S8I1WxWHmSQy"
      }
    },
    {
      "cell_type": "markdown",
      "source": [
        "#Step 7: Pre-processing\n",
        "\n",
        "* You can use the following code to one-hot-encode the categorical features:\n",
        "\n",
        "```\n",
        "categorical_cols = ['Sex','Marital status', 'Education', 'Occupation', 'Settlement size']\n",
        "\n",
        "X = pd.get_dummies(X, columns = categorical_cols)\n",
        "```\n",
        "\n",
        "* You can use the following code to scale the quantitative features:\n",
        "\n",
        "```\n",
        "ss = StandardScaler()\n",
        "\n",
        "X[['Age', 'Income']] = ss.fit_transform(X[['Age', 'Income']])\n",
        "```"
      ],
      "metadata": {
        "id": "uDKGV88Pl31w"
      }
    },
    {
      "cell_type": "code",
      "source": [
        "#Step 7\n",
        "categorical_cols = ['Sex','Marital status', 'Education', 'Occupation', 'Settlement size']\n",
        "\n",
        "X = pd.get_dummies(X, columns = categorical_cols)\n",
        "\n",
        "\n"
      ],
      "metadata": {
        "id": "sEuD2DqRh09-"
      },
      "execution_count": null,
      "outputs": []
    },
    {
      "cell_type": "code",
      "source": [
        "ss = StandardScaler()\n",
        "\n",
        "X[['Age', 'Income']] = ss.fit_transform(X[['Age', 'Income']])"
      ],
      "metadata": {
        "id": "mfaBPtVGPikd"
      },
      "execution_count": null,
      "outputs": []
    },
    {
      "cell_type": "markdown",
      "source": [
        "#Step 8: Model the data using K-Means clustering with the default number of clusters (k = 8)\n",
        "* Instantiate a K-Means model using `kmeans = cluster.KMeans()`\n",
        "* Fit the K-Means model using `kmeans.fit(X)`"
      ],
      "metadata": {
        "id": "X0ChX0ePmoY1"
      }
    },
    {
      "cell_type": "code",
      "metadata": {
        "id": "0nh3UVcNQofd",
        "colab": {
          "base_uri": "https://localhost:8080/"
        },
        "outputId": "b81e6725-6666-4cec-9899-499b9ebc9743"
      },
      "source": [
        "#Step 8\n",
        "kmeans = cluster.KMeans()\n",
        "kmeans.fit(X)\n",
        "\n"
      ],
      "execution_count": null,
      "outputs": [
        {
          "output_type": "execute_result",
          "data": {
            "text/plain": [
              "KMeans()"
            ]
          },
          "metadata": {},
          "execution_count": 9
        }
      ]
    },
    {
      "cell_type": "markdown",
      "source": [
        "#Step 9: Plot the clusters\n",
        "* We can't plot all of our features against the predicted clusters because there are just too many.  \n",
        "* Run the following code block to create a scatterplot of each participant's age and income colored by the cluster they were assigned to.\n",
        "* Remember that the clusters may appear to overlap because they are being separated by other features, like sex and marital status, that aren't being shown on the graph.\n",
        "* What do you observe about how customers are being clustered?"
      ],
      "metadata": {
        "id": "ni5AEVhQqmkO"
      }
    },
    {
      "cell_type": "code",
      "metadata": {
        "id": "dKOkibrFQofd",
        "colab": {
          "base_uri": "https://localhost:8080/",
          "height": 441
        },
        "outputId": "bf8d8351-dcb5-47f3-b19c-531441095da1"
      },
      "source": [
        "#Step 9\n",
        "\n",
        "# labels_ are assigned to every observation based on the cluster the observation is assigned to\n",
        "labels = pd.DataFrame(kmeans.labels_)\n",
        "\n",
        "# cluster_centers_ give coordinated of the cluster centroid across every feature\n",
        "labels.rename(columns={0: \"cluster\"}, inplace=True)\n",
        "\n",
        "X_orig = pd.read_csv('segmentation data.csv')\n",
        "graph = pd.concat([X_orig,labels], axis=1)\n",
        "\n",
        "sns.lmplot('Age','Income', data=graph, hue='cluster', fit_reg=False)"
      ],
      "execution_count": null,
      "outputs": [
        {
          "output_type": "stream",
          "name": "stderr",
          "text": [
            "/usr/local/lib/python3.8/dist-packages/seaborn/_decorators.py:36: FutureWarning: Pass the following variables as keyword args: x, y. From version 0.12, the only valid positional argument will be `data`, and passing other arguments without an explicit keyword will result in an error or misinterpretation.\n",
            "  warnings.warn(\n"
          ]
        },
        {
          "output_type": "execute_result",
          "data": {
            "text/plain": [
              "<seaborn.axisgrid.FacetGrid at 0x7f9d534d2310>"
            ]
          },
          "metadata": {},
          "execution_count": 10
        },
        {
          "output_type": "display_data",
          "data": {
            "text/plain": [
              "<Figure size 402.375x360 with 1 Axes>"
            ],
            "image/png": "[encoded data removed]"
          },
          "metadata": {
            "needs_background": "light"
          }
        }
      ]
    },
    {
      "cell_type": "markdown",
      "source": [
        "**Step 9 Answer**\n"
      ],
      "metadata": {
        "id": "JMxbTWzqkIqQ"
      }
    },
    {
      "cell_type": "markdown",
      "source": [
        "#Step 10: Choosing the optimal number of clusters\n",
        "* Run the following code block to create an elbow plot of the inertia for the K-means algorithm for two to eight clusters.\n",
        "* What cluster size appears to be the best?  Is it easy to tell from the elbow plot?\n"
      ],
      "metadata": {
        "id": "2Qxaho2Vt-Ol"
      }
    },
    {
      "cell_type": "code",
      "metadata": {
        "hidden": true,
        "id": "-kruO9mYfeKk",
        "colab": {
          "base_uri": "https://localhost:8080/",
          "height": 497
        },
        "outputId": "41eb6ce3-6317-4928-cc56-0b95076794f2"
      },
      "source": [
        "#Step 10\n",
        "\n",
        "# get the interia_ attribute for K-means fit with increasing k\n",
        "inertias = []\n",
        "for k in [2,3,4,5,6,7,8]:\n",
        "    km = cluster.KMeans(n_clusters=k)\n",
        "    km.fit(X)\n",
        "    inertias.append(km.inertia_)\n",
        "    \n",
        "# plot inertia for various k\n",
        "fig, ax = plt.subplots(figsize=(10,8))\n",
        "ax.plot([2,3,4,5,6,7,8], inertias, c='grey', alpha=0.5)\n",
        "ax.scatter([2,3,4,5,6,7,8], inertias)\n",
        "ax.set_xlabel('K')\n",
        "ax.set_ylabel('Inertia')\n",
        "plt.show()"
      ],
      "execution_count": null,
      "outputs": [
        {
          "output_type": "display_data",
          "data": {
            "text/plain": [
              "<Figure size 720x576 with 1 Axes>"
            ],
            "image/png": "[encoded data removed]"
          },
          "metadata": {
            "needs_background": "light"
          }
        }
      ]
    },
    {
      "cell_type": "markdown",
      "metadata": {
        "id": "Mj30EKlPYJ9R"
      },
      "source": [
        "**Step 10 Answer:**\n",
        "\n"
      ]
    },
    {
      "cell_type": "markdown",
      "source": [
        "#Step 11: Choosing the optimal number of clusters\n",
        "* Run the following code block to plot the silhouette score for the K-means algorithm for two to eight clusters.  Remember that a higher silhouette score is better.\n",
        "* What cluster size appears to be the best?  Is it easy to tell from this plot?\n"
      ],
      "metadata": {
        "id": "QzqX2a5YjB9N"
      }
    },
    {
      "cell_type": "code",
      "metadata": {
        "hidden": true,
        "id": "UJxfkmp_Qoff",
        "colab": {
          "base_uri": "https://localhost:8080/",
          "height": 334
        },
        "outputId": "9d7143b5-c093-4a60-a5bb-ca17245fdbe0"
      },
      "source": [
        "#Step 11\n",
        "\n",
        "s_scores = []\n",
        "for k in [2,3,4,5,6,7,8]:\n",
        "    km = cluster.KMeans(n_clusters=k)\n",
        "    km.fit(X)\n",
        "    s_scores.append(metrics.silhouette_score(X, km.labels_, metric='euclidean'))\n",
        "    \n",
        "fig, ax = plt.subplots(figsize=(8,5))\n",
        "ax.plot([2,3,4,5,6,7,8], s_scores, c='grey', alpha=0.5)\n",
        "ax.scatter([2,3,4,5,6,7,8], s_scores)\n",
        "ax.set_xlabel('K')\n",
        "ax.set_ylabel('Silhouette Score')\n",
        "plt.show()"
      ],
      "execution_count": null,
      "outputs": [
        {
          "output_type": "display_data",
          "data": {
            "text/plain": [
              "<Figure size 576x360 with 1 Axes>"
            ],
            "image/png": "[encoded data removed]"
          },
          "metadata": {
            "needs_background": "light"
          }
        }
      ]
    },
    {
      "cell_type": "markdown",
      "metadata": {
        "id": "x-DNzvitpiUC"
      },
      "source": [
        "**Step 11 Answer:**\n"
      ]
    }
  ]
}